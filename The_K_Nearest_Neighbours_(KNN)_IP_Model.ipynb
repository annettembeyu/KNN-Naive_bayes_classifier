{
  "nbformat": 4,
  "nbformat_minor": 0,
  "metadata": {
    "colab": {
      "name": "The K-Nearest Neighbours (KNN)_IP_Model",
      "provenance": [],
      "collapsed_sections": [],
      "include_colab_link": true
    },
    "kernelspec": {
      "name": "python3",
      "display_name": "Python 3"
    }
  },
  "cells": [
    {
      "cell_type": "markdown",
      "metadata": {
        "id": "view-in-github",
        "colab_type": "text"
      },
      "source": [
        "<a href=\"https://colab.research.google.com/github/annettembeyu/KNN-Naive_bayes_classifier/blob/main/The_K_Nearest_Neighbours_(KNN)_IP_Model.ipynb\" target=\"_parent\"><img src=\"https://colab.research.google.com/assets/colab-badge.svg\" alt=\"Open In Colab\"/></a>"
      ]
    },
    {
      "cell_type": "markdown",
      "metadata": {
        "id": "r_DcYFR42f0S"
      },
      "source": [
        "# The K-Nearest Neighbours (KNN) Model"
      ]
    },
    {
      "cell_type": "markdown",
      "metadata": {
        "id": "auSDbalqzJ00"
      },
      "source": [
        "## 1. Defining the Question"
      ]
    },
    {
      "cell_type": "markdown",
      "metadata": {
        "id": "wN5skTyRzK_5"
      },
      "source": [
        "a) Specifying the Data Analytic Question\n",
        "\n",
        "* What sorts of people were more likely to survive?"
      ]
    },
    {
      "cell_type": "markdown",
      "metadata": {
        "id": "J3E4FWCszQF4"
      },
      "source": [
        "### b) Defining the Metric for Success\n",
        "\n",
        "The Model will have a achieved it's objective when:\n",
        "\n",
        "* passenger who survived is accurately identified.\n",
        "* determine the passengers who were most likely to survive.\n"
      ]
    },
    {
      "cell_type": "markdown",
      "metadata": {
        "id": "a9BPYqunry97"
      },
      "source": [
        "### c) Understanding the context \n",
        "\n",
        "The K-Nearest Neighbors will be performed on the train data set as follows:\n",
        "\n",
        "\n",
        "* Randomly partition each dataset into two parts i.e 80 - 20  sets, then perform K-nearest neighbor classification.\n",
        "* Compute the accuracy (percentage of correct classification) and report the confusion matrix of each classifier.\n",
        "Repeat the two steps above, each time splitting the datasets differently i.e. 70-30, 60-40, then note the outcomes of your modeling.\n",
        "* Suggest and apply at least one of the optimization techniques that you learned earlier this week.\n",
        "* I will then provide further recommendations to improve both classifiers."
      ]
    },
    {
      "cell_type": "markdown",
      "metadata": {
        "id": "4t8fQPoFzgL0"
      },
      "source": [
        "### d) Recording the Experimental Design"
      ]
    },
    {
      "cell_type": "markdown",
      "metadata": {
        "id": "3PcwJ5MmzhPF"
      },
      "source": [
        "### e) Data Relevance"
      ]
    },
    {
      "cell_type": "markdown",
      "metadata": {
        "id": "vh6m864-zrhF"
      },
      "source": [
        "## 2. Reading the Data"
      ]
    },
    {
      "cell_type": "code",
      "metadata": {
        "id": "s-bZxkcb0MaZ"
      },
      "source": [
        "# Importing the library packages\n",
        "\n",
        "import os\n",
        "import pandas as pd\n",
        "from pandas import DataFrame,Series\n",
        "import matplotlib\n",
        "import numpy as np\n",
        "import matplotlib.pyplot as plt\n",
        "from sklearn.preprocessing import StandardScaler\n",
        "import seaborn as sns\n",
        "%matplotlib inline\n",
        "import warnings\n",
        "warnings.filterwarnings('ignore')"
      ],
      "execution_count": 1,
      "outputs": []
    },
    {
      "cell_type": "code",
      "metadata": {
        "id": "fc4Kc1XozmFK"
      },
      "source": [
        "# loading the dataset\n",
        "train_df= pd.read_csv('train.csv')"
      ],
      "execution_count": 2,
      "outputs": []
    },
    {
      "cell_type": "markdown",
      "metadata": {
        "id": "7AU2cUWB824_"
      },
      "source": [
        "## 3. Checking the Data"
      ]
    },
    {
      "cell_type": "code",
      "metadata": {
        "id": "Ohx8Rxek84Le",
        "outputId": "7ba77e02-48a9-4342-a194-93ae578b9223",
        "colab": {
          "base_uri": "https://localhost:8080/"
        }
      },
      "source": [
        "# Determining the no. of records in our dataset\n",
        "#\n",
        "print('Train Dataset shape: {} Rows, {} Columns'.format(*train_df.shape))"
      ],
      "execution_count": 4,
      "outputs": [
        {
          "output_type": "stream",
          "text": [
            "Train Dataset shape: 891 Rows, 12 Columns\n"
          ],
          "name": "stdout"
        }
      ]
    },
    {
      "cell_type": "code",
      "metadata": {
        "id": "Kp7Pg0h79L-_",
        "outputId": "7593ca75-b3e0-4074-b825-b9936de37f05",
        "colab": {
          "base_uri": "https://localhost:8080/",
          "height": 222
        }
      },
      "source": [
        "# Previewing the top of our dataset\n",
        "#\n",
        "display(\"Train Dataframe\")\n",
        "display(train_df.head(5))\n"
      ],
      "execution_count": 6,
      "outputs": [
        {
          "output_type": "display_data",
          "data": {
            "application/vnd.google.colaboratory.intrinsic+json": {
              "type": "string"
            },
            "text/plain": [
              "'Train Dataframe'"
            ]
          },
          "metadata": {
            "tags": []
          }
        },
        {
          "output_type": "display_data",
          "data": {
            "text/html": [
              "<div>\n",
              "<style scoped>\n",
              "    .dataframe tbody tr th:only-of-type {\n",
              "        vertical-align: middle;\n",
              "    }\n",
              "\n",
              "    .dataframe tbody tr th {\n",
              "        vertical-align: top;\n",
              "    }\n",
              "\n",
              "    .dataframe thead th {\n",
              "        text-align: right;\n",
              "    }\n",
              "</style>\n",
              "<table border=\"1\" class=\"dataframe\">\n",
              "  <thead>\n",
              "    <tr style=\"text-align: right;\">\n",
              "      <th></th>\n",
              "      <th>PassengerId</th>\n",
              "      <th>Survived</th>\n",
              "      <th>Pclass</th>\n",
              "      <th>Name</th>\n",
              "      <th>Sex</th>\n",
              "      <th>Age</th>\n",
              "      <th>SibSp</th>\n",
              "      <th>Parch</th>\n",
              "      <th>Ticket</th>\n",
              "      <th>Fare</th>\n",
              "      <th>Cabin</th>\n",
              "      <th>Embarked</th>\n",
              "    </tr>\n",
              "  </thead>\n",
              "  <tbody>\n",
              "    <tr>\n",
              "      <th>0</th>\n",
              "      <td>1</td>\n",
              "      <td>0</td>\n",
              "      <td>3</td>\n",
              "      <td>Braund, Mr. Owen Harris</td>\n",
              "      <td>male</td>\n",
              "      <td>22.0</td>\n",
              "      <td>1</td>\n",
              "      <td>0</td>\n",
              "      <td>A/5 21171</td>\n",
              "      <td>7.2500</td>\n",
              "      <td>NaN</td>\n",
              "      <td>S</td>\n",
              "    </tr>\n",
              "    <tr>\n",
              "      <th>1</th>\n",
              "      <td>2</td>\n",
              "      <td>1</td>\n",
              "      <td>1</td>\n",
              "      <td>Cumings, Mrs. John Bradley (Florence Briggs Th...</td>\n",
              "      <td>female</td>\n",
              "      <td>38.0</td>\n",
              "      <td>1</td>\n",
              "      <td>0</td>\n",
              "      <td>PC 17599</td>\n",
              "      <td>71.2833</td>\n",
              "      <td>C85</td>\n",
              "      <td>C</td>\n",
              "    </tr>\n",
              "    <tr>\n",
              "      <th>2</th>\n",
              "      <td>3</td>\n",
              "      <td>1</td>\n",
              "      <td>3</td>\n",
              "      <td>Heikkinen, Miss. Laina</td>\n",
              "      <td>female</td>\n",
              "      <td>26.0</td>\n",
              "      <td>0</td>\n",
              "      <td>0</td>\n",
              "      <td>STON/O2. 3101282</td>\n",
              "      <td>7.9250</td>\n",
              "      <td>NaN</td>\n",
              "      <td>S</td>\n",
              "    </tr>\n",
              "    <tr>\n",
              "      <th>3</th>\n",
              "      <td>4</td>\n",
              "      <td>1</td>\n",
              "      <td>1</td>\n",
              "      <td>Futrelle, Mrs. Jacques Heath (Lily May Peel)</td>\n",
              "      <td>female</td>\n",
              "      <td>35.0</td>\n",
              "      <td>1</td>\n",
              "      <td>0</td>\n",
              "      <td>113803</td>\n",
              "      <td>53.1000</td>\n",
              "      <td>C123</td>\n",
              "      <td>S</td>\n",
              "    </tr>\n",
              "    <tr>\n",
              "      <th>4</th>\n",
              "      <td>5</td>\n",
              "      <td>0</td>\n",
              "      <td>3</td>\n",
              "      <td>Allen, Mr. William Henry</td>\n",
              "      <td>male</td>\n",
              "      <td>35.0</td>\n",
              "      <td>0</td>\n",
              "      <td>0</td>\n",
              "      <td>373450</td>\n",
              "      <td>8.0500</td>\n",
              "      <td>NaN</td>\n",
              "      <td>S</td>\n",
              "    </tr>\n",
              "  </tbody>\n",
              "</table>\n",
              "</div>"
            ],
            "text/plain": [
              "   PassengerId  Survived  Pclass  ...     Fare Cabin  Embarked\n",
              "0            1         0       3  ...   7.2500   NaN         S\n",
              "1            2         1       1  ...  71.2833   C85         C\n",
              "2            3         1       3  ...   7.9250   NaN         S\n",
              "3            4         1       1  ...  53.1000  C123         S\n",
              "4            5         0       3  ...   8.0500   NaN         S\n",
              "\n",
              "[5 rows x 12 columns]"
            ]
          },
          "metadata": {
            "tags": []
          }
        }
      ]
    },
    {
      "cell_type": "code",
      "metadata": {
        "id": "5GdSTyMi98Rt",
        "outputId": "88b274a4-f7a8-4254-c1e2-359a48e200b4",
        "colab": {
          "base_uri": "https://localhost:8080/",
          "height": 222
        }
      },
      "source": [
        "# Previewing the bottom of our dataset\n",
        "# \n",
        "#\n",
        "display(\"Train Dataframe\")\n",
        "display(train_df.tail(5))"
      ],
      "execution_count": 7,
      "outputs": [
        {
          "output_type": "display_data",
          "data": {
            "application/vnd.google.colaboratory.intrinsic+json": {
              "type": "string"
            },
            "text/plain": [
              "'Train Dataframe'"
            ]
          },
          "metadata": {
            "tags": []
          }
        },
        {
          "output_type": "display_data",
          "data": {
            "text/html": [
              "<div>\n",
              "<style scoped>\n",
              "    .dataframe tbody tr th:only-of-type {\n",
              "        vertical-align: middle;\n",
              "    }\n",
              "\n",
              "    .dataframe tbody tr th {\n",
              "        vertical-align: top;\n",
              "    }\n",
              "\n",
              "    .dataframe thead th {\n",
              "        text-align: right;\n",
              "    }\n",
              "</style>\n",
              "<table border=\"1\" class=\"dataframe\">\n",
              "  <thead>\n",
              "    <tr style=\"text-align: right;\">\n",
              "      <th></th>\n",
              "      <th>PassengerId</th>\n",
              "      <th>Survived</th>\n",
              "      <th>Pclass</th>\n",
              "      <th>Name</th>\n",
              "      <th>Sex</th>\n",
              "      <th>Age</th>\n",
              "      <th>SibSp</th>\n",
              "      <th>Parch</th>\n",
              "      <th>Ticket</th>\n",
              "      <th>Fare</th>\n",
              "      <th>Cabin</th>\n",
              "      <th>Embarked</th>\n",
              "    </tr>\n",
              "  </thead>\n",
              "  <tbody>\n",
              "    <tr>\n",
              "      <th>886</th>\n",
              "      <td>887</td>\n",
              "      <td>0</td>\n",
              "      <td>2</td>\n",
              "      <td>Montvila, Rev. Juozas</td>\n",
              "      <td>male</td>\n",
              "      <td>27.0</td>\n",
              "      <td>0</td>\n",
              "      <td>0</td>\n",
              "      <td>211536</td>\n",
              "      <td>13.00</td>\n",
              "      <td>NaN</td>\n",
              "      <td>S</td>\n",
              "    </tr>\n",
              "    <tr>\n",
              "      <th>887</th>\n",
              "      <td>888</td>\n",
              "      <td>1</td>\n",
              "      <td>1</td>\n",
              "      <td>Graham, Miss. Margaret Edith</td>\n",
              "      <td>female</td>\n",
              "      <td>19.0</td>\n",
              "      <td>0</td>\n",
              "      <td>0</td>\n",
              "      <td>112053</td>\n",
              "      <td>30.00</td>\n",
              "      <td>B42</td>\n",
              "      <td>S</td>\n",
              "    </tr>\n",
              "    <tr>\n",
              "      <th>888</th>\n",
              "      <td>889</td>\n",
              "      <td>0</td>\n",
              "      <td>3</td>\n",
              "      <td>Johnston, Miss. Catherine Helen \"Carrie\"</td>\n",
              "      <td>female</td>\n",
              "      <td>NaN</td>\n",
              "      <td>1</td>\n",
              "      <td>2</td>\n",
              "      <td>W./C. 6607</td>\n",
              "      <td>23.45</td>\n",
              "      <td>NaN</td>\n",
              "      <td>S</td>\n",
              "    </tr>\n",
              "    <tr>\n",
              "      <th>889</th>\n",
              "      <td>890</td>\n",
              "      <td>1</td>\n",
              "      <td>1</td>\n",
              "      <td>Behr, Mr. Karl Howell</td>\n",
              "      <td>male</td>\n",
              "      <td>26.0</td>\n",
              "      <td>0</td>\n",
              "      <td>0</td>\n",
              "      <td>111369</td>\n",
              "      <td>30.00</td>\n",
              "      <td>C148</td>\n",
              "      <td>C</td>\n",
              "    </tr>\n",
              "    <tr>\n",
              "      <th>890</th>\n",
              "      <td>891</td>\n",
              "      <td>0</td>\n",
              "      <td>3</td>\n",
              "      <td>Dooley, Mr. Patrick</td>\n",
              "      <td>male</td>\n",
              "      <td>32.0</td>\n",
              "      <td>0</td>\n",
              "      <td>0</td>\n",
              "      <td>370376</td>\n",
              "      <td>7.75</td>\n",
              "      <td>NaN</td>\n",
              "      <td>Q</td>\n",
              "    </tr>\n",
              "  </tbody>\n",
              "</table>\n",
              "</div>"
            ],
            "text/plain": [
              "     PassengerId  Survived  Pclass  ...   Fare Cabin  Embarked\n",
              "886          887         0       2  ...  13.00   NaN         S\n",
              "887          888         1       1  ...  30.00   B42         S\n",
              "888          889         0       3  ...  23.45   NaN         S\n",
              "889          890         1       1  ...  30.00  C148         C\n",
              "890          891         0       3  ...   7.75   NaN         Q\n",
              "\n",
              "[5 rows x 12 columns]"
            ]
          },
          "metadata": {
            "tags": []
          }
        }
      ]
    },
    {
      "cell_type": "code",
      "metadata": {
        "id": "YYlcFg8S-Ka-",
        "outputId": "73bc203a-203a-4587-e346-7130ac120eb0",
        "colab": {
          "base_uri": "https://localhost:8080/",
          "height": 256
        }
      },
      "source": [
        "# Checking whether each column has an appropriate datatype\n",
        "#\n",
        "display(\"The data types of attributed for the Train Dataset are:\")\n",
        "display(train_df.dtypes)"
      ],
      "execution_count": 8,
      "outputs": [
        {
          "output_type": "display_data",
          "data": {
            "application/vnd.google.colaboratory.intrinsic+json": {
              "type": "string"
            },
            "text/plain": [
              "'The data types of attributed for the Train Dataset are:'"
            ]
          },
          "metadata": {
            "tags": []
          }
        },
        {
          "output_type": "display_data",
          "data": {
            "text/plain": [
              "PassengerId      int64\n",
              "Survived         int64\n",
              "Pclass           int64\n",
              "Name            object\n",
              "Sex             object\n",
              "Age            float64\n",
              "SibSp            int64\n",
              "Parch            int64\n",
              "Ticket          object\n",
              "Fare           float64\n",
              "Cabin           object\n",
              "Embarked        object\n",
              "dtype: object"
            ]
          },
          "metadata": {
            "tags": []
          }
        }
      ]
    },
    {
      "cell_type": "code",
      "metadata": {
        "id": "lXz5_FMs_e4F",
        "outputId": "2e480275-5a58-430b-86de-cf627d720550",
        "colab": {
          "base_uri": "https://localhost:8080/",
          "height": 86
        }
      },
      "source": [
        "# previewing the column heads for the datasets\n",
        "display(\"The column heads for the Train Dataset are:\")\n",
        "display(train_df.columns)"
      ],
      "execution_count": 9,
      "outputs": [
        {
          "output_type": "display_data",
          "data": {
            "application/vnd.google.colaboratory.intrinsic+json": {
              "type": "string"
            },
            "text/plain": [
              "'The column heads for the Train Dataset are:'"
            ]
          },
          "metadata": {
            "tags": []
          }
        },
        {
          "output_type": "display_data",
          "data": {
            "text/plain": [
              "Index(['PassengerId', 'Survived', 'Pclass', 'Name', 'Sex', 'Age', 'SibSp',\n",
              "       'Parch', 'Ticket', 'Fare', 'Cabin', 'Embarked'],\n",
              "      dtype='object')"
            ]
          },
          "metadata": {
            "tags": []
          }
        }
      ]
    },
    {
      "cell_type": "markdown",
      "metadata": {
        "id": "qTxpvaqQARVT"
      },
      "source": [
        "## 4. External Data Source Validation"
      ]
    },
    {
      "cell_type": "markdown",
      "metadata": {
        "id": "g03swNU-ASNH"
      },
      "source": [
        "Making that data matches something outside of the dataset is of utmost importannce. This ensures that the measurements are roughly in line with what they should be and it serves as a check on what other things might be wrong in your dataset. External validation can often be as simple as checking your data against a single number.\n",
        "\n",
        " The following is a link to an external reliable resource so as to provide credibility to my dataset: [Link](https://www.kaggle.com/c/titanic/data?select=test.csv)."
      ]
    },
    {
      "cell_type": "markdown",
      "metadata": {
        "id": "_34FbV_tDSTC"
      },
      "source": [
        "## 5. Tidying the Dataset"
      ]
    },
    {
      "cell_type": "code",
      "metadata": {
        "id": "-dRRKq7ueTPs",
        "outputId": "c86674c3-c71e-491e-a386-4f71d253b6c9",
        "colab": {
          "base_uri": "https://localhost:8080/",
          "height": 204
        }
      },
      "source": [
        "# dropping some columns\n",
        "train_df= train_df.drop(['PassengerId', 'Ticket'], axis=1)\n",
        "train_df.head()"
      ],
      "execution_count": 10,
      "outputs": [
        {
          "output_type": "execute_result",
          "data": {
            "text/html": [
              "<div>\n",
              "<style scoped>\n",
              "    .dataframe tbody tr th:only-of-type {\n",
              "        vertical-align: middle;\n",
              "    }\n",
              "\n",
              "    .dataframe tbody tr th {\n",
              "        vertical-align: top;\n",
              "    }\n",
              "\n",
              "    .dataframe thead th {\n",
              "        text-align: right;\n",
              "    }\n",
              "</style>\n",
              "<table border=\"1\" class=\"dataframe\">\n",
              "  <thead>\n",
              "    <tr style=\"text-align: right;\">\n",
              "      <th></th>\n",
              "      <th>Survived</th>\n",
              "      <th>Pclass</th>\n",
              "      <th>Name</th>\n",
              "      <th>Sex</th>\n",
              "      <th>Age</th>\n",
              "      <th>SibSp</th>\n",
              "      <th>Parch</th>\n",
              "      <th>Fare</th>\n",
              "      <th>Cabin</th>\n",
              "      <th>Embarked</th>\n",
              "    </tr>\n",
              "  </thead>\n",
              "  <tbody>\n",
              "    <tr>\n",
              "      <th>0</th>\n",
              "      <td>0</td>\n",
              "      <td>3</td>\n",
              "      <td>Braund, Mr. Owen Harris</td>\n",
              "      <td>male</td>\n",
              "      <td>22.0</td>\n",
              "      <td>1</td>\n",
              "      <td>0</td>\n",
              "      <td>7.2500</td>\n",
              "      <td>NaN</td>\n",
              "      <td>S</td>\n",
              "    </tr>\n",
              "    <tr>\n",
              "      <th>1</th>\n",
              "      <td>1</td>\n",
              "      <td>1</td>\n",
              "      <td>Cumings, Mrs. John Bradley (Florence Briggs Th...</td>\n",
              "      <td>female</td>\n",
              "      <td>38.0</td>\n",
              "      <td>1</td>\n",
              "      <td>0</td>\n",
              "      <td>71.2833</td>\n",
              "      <td>C85</td>\n",
              "      <td>C</td>\n",
              "    </tr>\n",
              "    <tr>\n",
              "      <th>2</th>\n",
              "      <td>1</td>\n",
              "      <td>3</td>\n",
              "      <td>Heikkinen, Miss. Laina</td>\n",
              "      <td>female</td>\n",
              "      <td>26.0</td>\n",
              "      <td>0</td>\n",
              "      <td>0</td>\n",
              "      <td>7.9250</td>\n",
              "      <td>NaN</td>\n",
              "      <td>S</td>\n",
              "    </tr>\n",
              "    <tr>\n",
              "      <th>3</th>\n",
              "      <td>1</td>\n",
              "      <td>1</td>\n",
              "      <td>Futrelle, Mrs. Jacques Heath (Lily May Peel)</td>\n",
              "      <td>female</td>\n",
              "      <td>35.0</td>\n",
              "      <td>1</td>\n",
              "      <td>0</td>\n",
              "      <td>53.1000</td>\n",
              "      <td>C123</td>\n",
              "      <td>S</td>\n",
              "    </tr>\n",
              "    <tr>\n",
              "      <th>4</th>\n",
              "      <td>0</td>\n",
              "      <td>3</td>\n",
              "      <td>Allen, Mr. William Henry</td>\n",
              "      <td>male</td>\n",
              "      <td>35.0</td>\n",
              "      <td>0</td>\n",
              "      <td>0</td>\n",
              "      <td>8.0500</td>\n",
              "      <td>NaN</td>\n",
              "      <td>S</td>\n",
              "    </tr>\n",
              "  </tbody>\n",
              "</table>\n",
              "</div>"
            ],
            "text/plain": [
              "   Survived  Pclass  ... Cabin Embarked\n",
              "0         0       3  ...   NaN        S\n",
              "1         1       1  ...   C85        C\n",
              "2         1       3  ...   NaN        S\n",
              "3         1       1  ...  C123        S\n",
              "4         0       3  ...   NaN        S\n",
              "\n",
              "[5 rows x 10 columns]"
            ]
          },
          "metadata": {
            "tags": []
          },
          "execution_count": 10
        }
      ]
    },
    {
      "cell_type": "code",
      "metadata": {
        "id": "8Oa_S-Q_ShCm"
      },
      "source": [
        "# changing the datatype \n",
        "train_df.Sex=train_df.Sex.astype('category').cat.codes\n",
        "train_df.Embarked = train_df.Embarked.astype('category').cat.codes"
      ],
      "execution_count": 12,
      "outputs": []
    },
    {
      "cell_type": "code",
      "metadata": {
        "id": "j_U_KPxYhkgo",
        "outputId": "7f1baf5c-68c9-4a8e-ce50-21b17c9731a5",
        "colab": {
          "base_uri": "https://localhost:8080/"
        }
      },
      "source": [
        "# checking the sum totals for the embarked column\n",
        "train_df.Embarked.value_counts()"
      ],
      "execution_count": 13,
      "outputs": [
        {
          "output_type": "execute_result",
          "data": {
            "text/plain": [
              "3    644\n",
              "1    168\n",
              "2     77\n",
              "0      2\n",
              "Name: Embarked, dtype: int64"
            ]
          },
          "metadata": {
            "tags": []
          },
          "execution_count": 13
        }
      ]
    },
    {
      "cell_type": "code",
      "metadata": {
        "id": "_hj89N7Hj9yp"
      },
      "source": [
        "# dropping the -1 in embarked which was not initially in the dataframe\n",
        "train_df.drop(train_df[train_df['Embarked'] == -1].index, inplace = True)"
      ],
      "execution_count": 14,
      "outputs": []
    },
    {
      "cell_type": "code",
      "metadata": {
        "id": "IejsWV7Rmv9K",
        "outputId": "9f8dbae7-a4fc-4e78-f746-a840b942ebb6",
        "colab": {
          "base_uri": "https://localhost:8080/"
        }
      },
      "source": [
        "train_df.Embarked.value_counts()"
      ],
      "execution_count": null,
      "outputs": [
        {
          "output_type": "execute_result",
          "data": {
            "text/plain": [
              "2    644\n",
              "0    168\n",
              "1     77\n",
              "Name: Embarked, dtype: int64"
            ]
          },
          "metadata": {
            "tags": []
          },
          "execution_count": 93
        }
      ]
    },
    {
      "cell_type": "code",
      "metadata": {
        "id": "qEyXHVMF-0I-"
      },
      "source": [
        "data = [train_df]\n",
        "titles = {\"Mr\": 1, \"Miss\": 2, \"Mrs\": 3, \"Master\": 4, \"Rare\": 5}\n",
        "\n",
        "for dataset in data:\n",
        "    # extract titles\n",
        "    dataset['Title'] = dataset.Name.str.extract(' ([A-Za-z]+)\\.', expand=False)\n",
        "    # replace titles with a more common title or as Rare\n",
        "    dataset['Title'] = dataset['Title'].replace(['Lady', 'Countess','Capt', 'Col','Don', 'Dr',\\\n",
        "                                            'Major', 'Rev', 'Sir', 'Jonkheer', 'Dona'], 'Rare')\n",
        "    dataset['Title'] = dataset['Title'].replace('Mlle', 'Miss')\n",
        "    dataset['Title'] = dataset['Title'].replace('Ms', 'Miss')\n",
        "    dataset['Title'] = dataset['Title'].replace('Mme', 'Mrs')\n",
        "    # convert titles into numbers\n",
        "    dataset['Title'] = dataset['Title'].map(titles)\n",
        "    # filling NaN with 0, to get safe\n",
        "    dataset['Title'] = dataset['Title'].fillna(0)\n",
        "train_df = train_df.drop(['Name'], axis=1)\n"
      ],
      "execution_count": 15,
      "outputs": []
    },
    {
      "cell_type": "code",
      "metadata": {
        "id": "JLnt6_XR_DFg",
        "outputId": "0f1a1f90-b1cd-4577-d7d2-81fe86a53e62",
        "colab": {
          "base_uri": "https://localhost:8080/"
        }
      },
      "source": [
        "# looking at the new column formed (the title  column)\n",
        "train_df.Title.value_counts()"
      ],
      "execution_count": 16,
      "outputs": [
        {
          "output_type": "execute_result",
          "data": {
            "text/plain": [
              "1    517\n",
              "2    185\n",
              "3    126\n",
              "4     40\n",
              "5     23\n",
              "Name: Title, dtype: int64"
            ]
          },
          "metadata": {
            "tags": []
          },
          "execution_count": 16
        }
      ]
    },
    {
      "cell_type": "code",
      "metadata": {
        "id": "g57H6D_eD7-a",
        "outputId": "368a383d-a4b6-400a-ec61-c090bc375c18",
        "colab": {
          "base_uri": "https://localhost:8080/",
          "height": 879
        }
      },
      "source": [
        "# checking for outliers\n",
        "cols= train_df[['Age', 'SibSp','Parch','Fare']]\n",
        "cols.boxplot(figsize=(20,15), color= 'blue')\n",
        "plt.title('Outliers in Train Data using boxplots')\n",
        "plt.show()"
      ],
      "execution_count": 17,
      "outputs": [
        {
          "output_type": "display_data",
          "data": {
            "image/png": "[encoded data removed]",
            "text/plain": [
              "<Figure size 1440x1080 with 1 Axes>"
            ]
          },
          "metadata": {
            "tags": [],
            "needs_background": "light"
          }
        }
      ]
    },
    {
      "cell_type": "code",
      "metadata": {
        "id": "SI1yYZSQ03iT",
        "outputId": "20fdaa76-185e-4438-92ee-eb87a3bbb669",
        "colab": {
          "base_uri": "https://localhost:8080/",
          "height": 615
        }
      },
      "source": [
        "# Checking for Anomalies\n",
        "#\n",
        "Q1= train_df.quantile(0.25)\n",
        "Q3 =train_df.quantile(0.75)\n",
        "IQR = Q3-Q1\n",
        "display('0.25 quartile')\n",
        "print(Q1)\n",
        "print('----------------------------------------')\n",
        "display('0.75 quartile')\n",
        "print(Q3)\n",
        "print('----------------------------------------')\n",
        "display('0.5 quartile')\n",
        "print(IQR)"
      ],
      "execution_count": 18,
      "outputs": [
        {
          "output_type": "display_data",
          "data": {
            "application/vnd.google.colaboratory.intrinsic+json": {
              "type": "string"
            },
            "text/plain": [
              "'0.25 quartile'"
            ]
          },
          "metadata": {
            "tags": []
          }
        },
        {
          "output_type": "stream",
          "text": [
            "Survived     0.0000\n",
            "Pclass       2.0000\n",
            "Sex          0.0000\n",
            "Age         20.1250\n",
            "SibSp        0.0000\n",
            "Parch        0.0000\n",
            "Fare         7.9104\n",
            "Embarked     2.0000\n",
            "Title        1.0000\n",
            "Name: 0.25, dtype: float64\n",
            "----------------------------------------\n"
          ],
          "name": "stdout"
        },
        {
          "output_type": "display_data",
          "data": {
            "application/vnd.google.colaboratory.intrinsic+json": {
              "type": "string"
            },
            "text/plain": [
              "'0.75 quartile'"
            ]
          },
          "metadata": {
            "tags": []
          }
        },
        {
          "output_type": "stream",
          "text": [
            "Survived     1.0\n",
            "Pclass       3.0\n",
            "Sex          1.0\n",
            "Age         38.0\n",
            "SibSp        1.0\n",
            "Parch        0.0\n",
            "Fare        31.0\n",
            "Embarked     3.0\n",
            "Title        2.0\n",
            "Name: 0.75, dtype: float64\n",
            "----------------------------------------\n"
          ],
          "name": "stdout"
        },
        {
          "output_type": "display_data",
          "data": {
            "application/vnd.google.colaboratory.intrinsic+json": {
              "type": "string"
            },
            "text/plain": [
              "'0.5 quartile'"
            ]
          },
          "metadata": {
            "tags": []
          }
        },
        {
          "output_type": "stream",
          "text": [
            "Survived     1.0000\n",
            "Pclass       1.0000\n",
            "Sex          1.0000\n",
            "Age         17.8750\n",
            "SibSp        1.0000\n",
            "Parch        0.0000\n",
            "Fare        23.0896\n",
            "Embarked     1.0000\n",
            "Title        1.0000\n",
            "dtype: float64\n"
          ],
          "name": "stdout"
        }
      ]
    },
    {
      "cell_type": "code",
      "metadata": {
        "id": "LU58XxGtFxos",
        "outputId": "8e599464-6990-44c8-b82a-b8ff2f60d680",
        "colab": {
          "base_uri": "https://localhost:8080/",
          "height": 222
        }
      },
      "source": [
        "# checking for unique values in the dataset\n",
        "display(\"Unique values in train dataset:\")\n",
        "display(train_df.nunique())"
      ],
      "execution_count": 19,
      "outputs": [
        {
          "output_type": "display_data",
          "data": {
            "application/vnd.google.colaboratory.intrinsic+json": {
              "type": "string"
            },
            "text/plain": [
              "'Unique values in train dataset:'"
            ]
          },
          "metadata": {
            "tags": []
          }
        },
        {
          "output_type": "display_data",
          "data": {
            "text/plain": [
              "Survived      2\n",
              "Pclass        3\n",
              "Sex           2\n",
              "Age          88\n",
              "SibSp         7\n",
              "Parch         7\n",
              "Fare        248\n",
              "Cabin       147\n",
              "Embarked      4\n",
              "Title         5\n",
              "dtype: int64"
            ]
          },
          "metadata": {
            "tags": []
          }
        }
      ]
    },
    {
      "cell_type": "code",
      "metadata": {
        "id": "Lixf-oolGYZS",
        "outputId": "94496cff-2286-4376-cca6-4512abc09dee",
        "colab": {
          "base_uri": "https://localhost:8080/",
          "height": 222
        }
      },
      "source": [
        "# Identifying the Missing Data\n",
        "display(\"Missing values in train dataset\")\n",
        "display(train_df.isnull().sum())"
      ],
      "execution_count": 20,
      "outputs": [
        {
          "output_type": "display_data",
          "data": {
            "application/vnd.google.colaboratory.intrinsic+json": {
              "type": "string"
            },
            "text/plain": [
              "'Missing values in train dataset'"
            ]
          },
          "metadata": {
            "tags": []
          }
        },
        {
          "output_type": "display_data",
          "data": {
            "text/plain": [
              "Survived      0\n",
              "Pclass        0\n",
              "Sex           0\n",
              "Age         177\n",
              "SibSp         0\n",
              "Parch         0\n",
              "Fare          0\n",
              "Cabin       687\n",
              "Embarked      0\n",
              "Title         0\n",
              "dtype: int64"
            ]
          },
          "metadata": {
            "tags": []
          }
        }
      ]
    },
    {
      "cell_type": "code",
      "metadata": {
        "id": "mwBAPcZXImRH",
        "outputId": "da77dd47-924f-4d86-c1b8-3e49a956a6df",
        "colab": {
          "base_uri": "https://localhost:8080/",
          "height": 222
        }
      },
      "source": [
        "# summarize the number of rows with missing values for each column\n",
        "display(\"Summary of missing values in percentage for train data\")\n",
        "display(train_df.isnull().sum().sort_values(ascending=False)/train_df.shape[0] * 100)"
      ],
      "execution_count": 21,
      "outputs": [
        {
          "output_type": "display_data",
          "data": {
            "application/vnd.google.colaboratory.intrinsic+json": {
              "type": "string"
            },
            "text/plain": [
              "'Summary of missing values in percentage for train data'"
            ]
          },
          "metadata": {
            "tags": []
          }
        },
        {
          "output_type": "display_data",
          "data": {
            "text/plain": [
              "Cabin       77.104377\n",
              "Age         19.865320\n",
              "Title        0.000000\n",
              "Embarked     0.000000\n",
              "Fare         0.000000\n",
              "Parch        0.000000\n",
              "SibSp        0.000000\n",
              "Sex          0.000000\n",
              "Pclass       0.000000\n",
              "Survived     0.000000\n",
              "dtype: float64"
            ]
          },
          "metadata": {
            "tags": []
          }
        }
      ]
    },
    {
      "cell_type": "code",
      "metadata": {
        "id": "rb_khjQ2G_ZR",
        "outputId": "07dfd867-104b-44b9-c260-2e6269421a57",
        "colab": {
          "base_uri": "https://localhost:8080/",
          "height": 222
        }
      },
      "source": [
        "# confirming missing values in the dataset\n",
        "display(\"Columns with missing values in Train dataset\")\n",
        "display(train_df.isna().any())"
      ],
      "execution_count": 22,
      "outputs": [
        {
          "output_type": "display_data",
          "data": {
            "application/vnd.google.colaboratory.intrinsic+json": {
              "type": "string"
            },
            "text/plain": [
              "'Columns with missing values in Train dataset'"
            ]
          },
          "metadata": {
            "tags": []
          }
        },
        {
          "output_type": "display_data",
          "data": {
            "text/plain": [
              "Survived    False\n",
              "Pclass      False\n",
              "Sex         False\n",
              "Age          True\n",
              "SibSp       False\n",
              "Parch       False\n",
              "Fare        False\n",
              "Cabin        True\n",
              "Embarked    False\n",
              "Title       False\n",
              "dtype: bool"
            ]
          },
          "metadata": {
            "tags": []
          }
        }
      ]
    },
    {
      "cell_type": "code",
      "metadata": {
        "id": "uORRDNaD7X5S",
        "outputId": "f1235b18-25a9-41e1-d059-685fcd719540",
        "colab": {
          "base_uri": "https://localhost:8080/"
        }
      },
      "source": [
        "# Dealing with the missing values in the cabin column exctracting information from the cabin column and forming a new column deck\n",
        "import re\n",
        "deck = {\"A\": 1, \"B\": 2, \"C\": 3, \"D\": 4, \"E\": 5, \"F\": 6, \"G\": 7, \"U\": 8}\n",
        "data = [train_df]\n",
        "\n",
        "for dataset in data:\n",
        "    dataset['Cabin'] = dataset['Cabin'].fillna(\"U0\")\n",
        "    dataset['Deck'] = dataset['Cabin'].map(lambda x: re.compile(\"([a-zA-Z]+)\").search(x).group())\n",
        "    dataset['Deck'] = dataset['Deck'].map(deck)\n",
        "    dataset['Deck'] = dataset['Deck'].fillna(0)\n",
        "    dataset['Deck'] = dataset['Deck'].astype(int)\n",
        "# we can now drop the cabin feature\n",
        "train_df = train_df.drop(['Cabin'], axis=1)\n",
        "train_df[\"Deck\"].isnull().sum()"
      ],
      "execution_count": 23,
      "outputs": [
        {
          "output_type": "execute_result",
          "data": {
            "text/plain": [
              "0"
            ]
          },
          "metadata": {
            "tags": []
          },
          "execution_count": 23
        }
      ]
    },
    {
      "cell_type": "code",
      "metadata": {
        "id": "cDimdTye7ZAv",
        "outputId": "5792969b-9d73-4212-a24c-c651dd9e07c1",
        "colab": {
          "base_uri": "https://localhost:8080/"
        }
      },
      "source": [
        "data = [train_df]\n",
        "\n",
        "for dataset in data:\n",
        "    mean = train_df[\"Age\"].mean()\n",
        "    std = train_df[\"Age\"].std()\n",
        "    is_null = dataset[\"Age\"].isnull().sum()\n",
        "    # compute random numbers between the mean, std and is_null\n",
        "    rand_age = np.random.randint(mean - std, mean + std, size = is_null)\n",
        "    # fill NaN values in Age column with random values generated\n",
        "    age_slice = dataset[\"Age\"].copy()\n",
        "    age_slice[np.isnan(age_slice)] = rand_age\n",
        "    dataset[\"Age\"] = age_slice\n",
        "    dataset[\"Age\"] = train_df[\"Age\"].astype(int)\n",
        "train_df[\"Age\"].isnull().sum()"
      ],
      "execution_count": 24,
      "outputs": [
        {
          "output_type": "execute_result",
          "data": {
            "text/plain": [
              "0"
            ]
          },
          "metadata": {
            "tags": []
          },
          "execution_count": 24
        }
      ]
    },
    {
      "cell_type": "code",
      "metadata": {
        "id": "-65DuciIsilW",
        "outputId": "82efe443-a3ab-4086-84ca-e8eb4c7d5d99",
        "colab": {
          "base_uri": "https://localhost:8080/"
        }
      },
      "source": [
        "# Converting all characters in the message to lower case\n",
        "# \n",
        "train_df.columns = train_df.columns.map(lambda x: x.lower())\n",
        "train_df.columns"
      ],
      "execution_count": 25,
      "outputs": [
        {
          "output_type": "execute_result",
          "data": {
            "text/plain": [
              "Index(['survived', 'pclass', 'sex', 'age', 'sibsp', 'parch', 'fare',\n",
              "       'embarked', 'title', 'deck'],\n",
              "      dtype='object')"
            ]
          },
          "metadata": {
            "tags": []
          },
          "execution_count": 25
        }
      ]
    },
    {
      "cell_type": "markdown",
      "metadata": {
        "id": "lxmKusnpvNCu"
      },
      "source": [
        "## 6. Exploratory Analysis"
      ]
    },
    {
      "cell_type": "markdown",
      "metadata": {
        "id": "oBH8Cs36viBw"
      },
      "source": [
        "#### Unimodal Data Visualizations"
      ]
    },
    {
      "cell_type": "code",
      "metadata": {
        "id": "QwiS09eJA-Za",
        "outputId": "b66245b2-8970-40b9-a735-46d13838305c",
        "colab": {
          "base_uri": "https://localhost:8080/"
        }
      },
      "source": [
        "var = ['survived', 'pclass', 'sex', 'age', 'sibsp', 'parch', 'fare','embarked', 'title', 'deck']\n",
        "for v in var:\n",
        "    print('\\nFrequency count for variable %s'%v)\n",
        "    print(train_df[v].value_counts())"
      ],
      "execution_count": 26,
      "outputs": [
        {
          "output_type": "stream",
          "text": [
            "\n",
            "Frequency count for variable survived\n",
            "0    549\n",
            "1    342\n",
            "Name: survived, dtype: int64\n",
            "\n",
            "Frequency count for variable pclass\n",
            "3    491\n",
            "1    216\n",
            "2    184\n",
            "Name: pclass, dtype: int64\n",
            "\n",
            "Frequency count for variable sex\n",
            "1    577\n",
            "0    314\n",
            "Name: sex, dtype: int64\n",
            "\n",
            "Frequency count for variable age\n",
            "24    38\n",
            "22    34\n",
            "28    33\n",
            "21    33\n",
            "30    32\n",
            "      ..\n",
            "74     1\n",
            "66     1\n",
            "12     1\n",
            "53     1\n",
            "80     1\n",
            "Name: age, Length: 71, dtype: int64\n",
            "\n",
            "Frequency count for variable sibsp\n",
            "0    608\n",
            "1    209\n",
            "2     28\n",
            "4     18\n",
            "3     16\n",
            "8      7\n",
            "5      5\n",
            "Name: sibsp, dtype: int64\n",
            "\n",
            "Frequency count for variable parch\n",
            "0    678\n",
            "1    118\n",
            "2     80\n",
            "5      5\n",
            "3      5\n",
            "4      4\n",
            "6      1\n",
            "Name: parch, dtype: int64\n",
            "\n",
            "Frequency count for variable fare\n",
            "8.0500     43\n",
            "13.0000    42\n",
            "7.8958     38\n",
            "7.7500     34\n",
            "26.0000    31\n",
            "           ..\n",
            "8.4583      1\n",
            "9.8375      1\n",
            "8.3625      1\n",
            "14.1083     1\n",
            "17.4000     1\n",
            "Name: fare, Length: 248, dtype: int64\n",
            "\n",
            "Frequency count for variable embarked\n",
            "3    644\n",
            "1    168\n",
            "2     77\n",
            "0      2\n",
            "Name: embarked, dtype: int64\n",
            "\n",
            "Frequency count for variable title\n",
            "1    517\n",
            "2    185\n",
            "3    126\n",
            "4     40\n",
            "5     23\n",
            "Name: title, dtype: int64\n",
            "\n",
            "Frequency count for variable deck\n",
            "8    687\n",
            "3     59\n",
            "2     47\n",
            "4     33\n",
            "5     32\n",
            "1     15\n",
            "6     13\n",
            "7      4\n",
            "0      1\n",
            "Name: deck, dtype: int64\n"
          ],
          "name": "stdout"
        }
      ]
    },
    {
      "cell_type": "code",
      "metadata": {
        "id": "zX0NVHMIoMXc",
        "outputId": "eac6ada1-6ec4-472a-f35b-273ec24ad779",
        "colab": {
          "base_uri": "https://localhost:8080/",
          "height": 926
        }
      },
      "source": [
        "# Descriptive summaries for the dataset\n",
        "print('Variance of values in different columns')\n",
        "print(train_df.var())\n",
        "print('Skewness of values in different columns')\n",
        "print(train_df.skew())\n",
        "print('Kurtosis of values in different columns')\n",
        "print(train_df.kurt())\n",
        "print('Summary')\n",
        "train_df.describe()"
      ],
      "execution_count": 27,
      "outputs": [
        {
          "output_type": "stream",
          "text": [
            "Variance of values in different columns\n",
            "survived       0.236772\n",
            "pclass         0.699015\n",
            "sex            0.228475\n",
            "age          184.355384\n",
            "sibsp          1.216043\n",
            "parch          0.649728\n",
            "fare        2469.436846\n",
            "embarked       0.640407\n",
            "title          1.060979\n",
            "deck           4.302644\n",
            "dtype: float64\n",
            "Skewness of values in different columns\n",
            "survived    0.478523\n",
            "pclass     -0.630548\n",
            "sex        -0.618921\n",
            "age         0.382172\n",
            "sibsp       3.695352\n",
            "parch       2.749117\n",
            "fare        4.787317\n",
            "embarked   -1.270634\n",
            "title       1.377974\n",
            "deck       -1.636758\n",
            "dtype: float64\n",
            "Kurtosis of values in different columns\n",
            "survived    -1.775005\n",
            "pclass      -1.280015\n",
            "sex         -1.620580\n",
            "age          0.410179\n",
            "sibsp       17.880420\n",
            "parch        9.778125\n",
            "fare        33.398141\n",
            "embarked    -0.143110\n",
            "title        1.186361\n",
            "deck         1.071067\n",
            "dtype: float64\n",
            "Summary\n"
          ],
          "name": "stdout"
        },
        {
          "output_type": "execute_result",
          "data": {
            "text/html": [
              "<div>\n",
              "<style scoped>\n",
              "    .dataframe tbody tr th:only-of-type {\n",
              "        vertical-align: middle;\n",
              "    }\n",
              "\n",
              "    .dataframe tbody tr th {\n",
              "        vertical-align: top;\n",
              "    }\n",
              "\n",
              "    .dataframe thead th {\n",
              "        text-align: right;\n",
              "    }\n",
              "</style>\n",
              "<table border=\"1\" class=\"dataframe\">\n",
              "  <thead>\n",
              "    <tr style=\"text-align: right;\">\n",
              "      <th></th>\n",
              "      <th>survived</th>\n",
              "      <th>pclass</th>\n",
              "      <th>sex</th>\n",
              "      <th>age</th>\n",
              "      <th>sibsp</th>\n",
              "      <th>parch</th>\n",
              "      <th>fare</th>\n",
              "      <th>embarked</th>\n",
              "      <th>title</th>\n",
              "      <th>deck</th>\n",
              "    </tr>\n",
              "  </thead>\n",
              "  <tbody>\n",
              "    <tr>\n",
              "      <th>count</th>\n",
              "      <td>891.000000</td>\n",
              "      <td>891.000000</td>\n",
              "      <td>891.000000</td>\n",
              "      <td>891.000000</td>\n",
              "      <td>891.000000</td>\n",
              "      <td>891.000000</td>\n",
              "      <td>891.000000</td>\n",
              "      <td>891.000000</td>\n",
              "      <td>891.000000</td>\n",
              "      <td>891.000000</td>\n",
              "    </tr>\n",
              "    <tr>\n",
              "      <th>mean</th>\n",
              "      <td>0.383838</td>\n",
              "      <td>2.308642</td>\n",
              "      <td>0.647587</td>\n",
              "      <td>29.627385</td>\n",
              "      <td>0.523008</td>\n",
              "      <td>0.381594</td>\n",
              "      <td>32.204208</td>\n",
              "      <td>2.529742</td>\n",
              "      <td>1.728395</td>\n",
              "      <td>6.936027</td>\n",
              "    </tr>\n",
              "    <tr>\n",
              "      <th>std</th>\n",
              "      <td>0.486592</td>\n",
              "      <td>0.836071</td>\n",
              "      <td>0.477990</td>\n",
              "      <td>13.577753</td>\n",
              "      <td>1.102743</td>\n",
              "      <td>0.806057</td>\n",
              "      <td>49.693429</td>\n",
              "      <td>0.800254</td>\n",
              "      <td>1.030039</td>\n",
              "      <td>2.074282</td>\n",
              "    </tr>\n",
              "    <tr>\n",
              "      <th>min</th>\n",
              "      <td>0.000000</td>\n",
              "      <td>1.000000</td>\n",
              "      <td>0.000000</td>\n",
              "      <td>0.000000</td>\n",
              "      <td>0.000000</td>\n",
              "      <td>0.000000</td>\n",
              "      <td>0.000000</td>\n",
              "      <td>0.000000</td>\n",
              "      <td>1.000000</td>\n",
              "      <td>0.000000</td>\n",
              "    </tr>\n",
              "    <tr>\n",
              "      <th>25%</th>\n",
              "      <td>0.000000</td>\n",
              "      <td>2.000000</td>\n",
              "      <td>0.000000</td>\n",
              "      <td>21.000000</td>\n",
              "      <td>0.000000</td>\n",
              "      <td>0.000000</td>\n",
              "      <td>7.910400</td>\n",
              "      <td>2.000000</td>\n",
              "      <td>1.000000</td>\n",
              "      <td>8.000000</td>\n",
              "    </tr>\n",
              "    <tr>\n",
              "      <th>50%</th>\n",
              "      <td>0.000000</td>\n",
              "      <td>3.000000</td>\n",
              "      <td>1.000000</td>\n",
              "      <td>28.000000</td>\n",
              "      <td>0.000000</td>\n",
              "      <td>0.000000</td>\n",
              "      <td>14.454200</td>\n",
              "      <td>3.000000</td>\n",
              "      <td>1.000000</td>\n",
              "      <td>8.000000</td>\n",
              "    </tr>\n",
              "    <tr>\n",
              "      <th>75%</th>\n",
              "      <td>1.000000</td>\n",
              "      <td>3.000000</td>\n",
              "      <td>1.000000</td>\n",
              "      <td>38.000000</td>\n",
              "      <td>1.000000</td>\n",
              "      <td>0.000000</td>\n",
              "      <td>31.000000</td>\n",
              "      <td>3.000000</td>\n",
              "      <td>2.000000</td>\n",
              "      <td>8.000000</td>\n",
              "    </tr>\n",
              "    <tr>\n",
              "      <th>max</th>\n",
              "      <td>1.000000</td>\n",
              "      <td>3.000000</td>\n",
              "      <td>1.000000</td>\n",
              "      <td>80.000000</td>\n",
              "      <td>8.000000</td>\n",
              "      <td>6.000000</td>\n",
              "      <td>512.329200</td>\n",
              "      <td>3.000000</td>\n",
              "      <td>5.000000</td>\n",
              "      <td>8.000000</td>\n",
              "    </tr>\n",
              "  </tbody>\n",
              "</table>\n",
              "</div>"
            ],
            "text/plain": [
              "         survived      pclass         sex  ...    embarked       title        deck\n",
              "count  891.000000  891.000000  891.000000  ...  891.000000  891.000000  891.000000\n",
              "mean     0.383838    2.308642    0.647587  ...    2.529742    1.728395    6.936027\n",
              "std      0.486592    0.836071    0.477990  ...    0.800254    1.030039    2.074282\n",
              "min      0.000000    1.000000    0.000000  ...    0.000000    1.000000    0.000000\n",
              "25%      0.000000    2.000000    0.000000  ...    2.000000    1.000000    8.000000\n",
              "50%      0.000000    3.000000    1.000000  ...    3.000000    1.000000    8.000000\n",
              "75%      1.000000    3.000000    1.000000  ...    3.000000    2.000000    8.000000\n",
              "max      1.000000    3.000000    1.000000  ...    3.000000    5.000000    8.000000\n",
              "\n",
              "[8 rows x 10 columns]"
            ]
          },
          "metadata": {
            "tags": []
          },
          "execution_count": 27
        }
      ]
    },
    {
      "cell_type": "code",
      "metadata": {
        "id": "4GDziUsFg5kV",
        "outputId": "c9ef0711-843b-4b0e-d2fc-68c30017e30c",
        "colab": {
          "base_uri": "https://localhost:8080/"
        }
      },
      "source": [
        "# counts of the passengers who survived and those who did not\n",
        "train_df.survived.value_counts()"
      ],
      "execution_count": 28,
      "outputs": [
        {
          "output_type": "execute_result",
          "data": {
            "text/plain": [
              "0    549\n",
              "1    342\n",
              "Name: survived, dtype: int64"
            ]
          },
          "metadata": {
            "tags": []
          },
          "execution_count": 28
        }
      ]
    },
    {
      "cell_type": "code",
      "metadata": {
        "id": "_zl97e6PgFqK",
        "outputId": "fac460f3-5930-4357-8a1b-f6cd83d36106",
        "colab": {
          "base_uri": "https://localhost:8080/",
          "height": 294
        }
      },
      "source": [
        "# plotting a bar graph to show the number of passengers who survived and those that did not\n",
        "y = ['survived']\n",
        "ax = train_df[y].value_counts().sort_values().plot(kind=\"barh\")\n",
        "totals= []\n",
        "for i in ax.patches:\n",
        "    totals.append(i.get_width())\n",
        "total = sum(totals)\n",
        "for i in ax.patches:\n",
        "     ax.text(i.get_width()+.3, i.get_y()+.20, \n",
        "     str(round((i.get_width()/total)*100, 2))+'%', \n",
        "     fontsize=10, color='black')\n",
        "ax.grid(axis=\"x\")\n",
        "plt.suptitle(y, fontsize=20)\n",
        "plt.show()"
      ],
      "execution_count": 29,
      "outputs": [
        {
          "output_type": "display_data",
          "data": {
            "image/png": "[encoded data removed]",
            "text/plain": [
              "<Figure size 432x288 with 1 Axes>"
            ]
          },
          "metadata": {
            "tags": [],
            "needs_background": "light"
          }
        }
      ]
    },
    {
      "cell_type": "code",
      "metadata": {
        "id": "EPU6ST6HibJL",
        "outputId": "d73a81db-0459-4d70-e6a1-e5b37b4b8f99",
        "colab": {
          "base_uri": "https://localhost:8080/",
          "height": 294
        }
      },
      "source": [
        "# plotting a bar graph to the number of ales and females\n",
        "y = ['sex']\n",
        "ax = train_df[y].value_counts().sort_values().plot(kind=\"barh\")\n",
        "totals= []\n",
        "for i in ax.patches:\n",
        "    totals.append(i.get_width())\n",
        "total = sum(totals)\n",
        "for i in ax.patches:\n",
        "     ax.text(i.get_width()+.3, i.get_y()+.20, \n",
        "     str(round((i.get_width()/total)*100, 2))+'%', \n",
        "     fontsize=10, color='black')\n",
        "ax.grid(axis=\"x\")\n",
        "plt.suptitle(y, fontsize=20)\n",
        "plt.show()"
      ],
      "execution_count": 30,
      "outputs": [
        {
          "output_type": "display_data",
          "data": {
            "image/png": "[encoded data removed]",
            "text/plain": [
              "<Figure size 432x288 with 1 Axes>"
            ]
          },
          "metadata": {
            "tags": [],
            "needs_background": "light"
          }
        }
      ]
    },
    {
      "cell_type": "markdown",
      "metadata": {
        "id": "dz9hfl2HzDcw"
      },
      "source": [
        "There were more males than females"
      ]
    },
    {
      "cell_type": "code",
      "metadata": {
        "id": "SD40ilZ2nlCe",
        "outputId": "dd4af124-a8ec-4ca6-84d7-8e34ce5fed75",
        "colab": {
          "base_uri": "https://localhost:8080/",
          "height": 294
        }
      },
      "source": [
        "# making a bar plot of the passengers that embarked in the different locations.\n",
        "y = ['embarked']\n",
        "ax = train_df[y].value_counts().sort_values().plot(kind=\"barh\")\n",
        "totals= []\n",
        "for i in ax.patches:\n",
        "    totals.append(i.get_width())\n",
        "total = sum(totals)\n",
        "for i in ax.patches:\n",
        "     ax.text(i.get_width()+.3, i.get_y()+.20, \n",
        "     str(round((i.get_width()/total)*100, 2))+'%', \n",
        "     fontsize=10, color='black')\n",
        "ax.grid(axis=\"x\")\n",
        "plt.suptitle(y, fontsize=20)\n",
        "plt.show()"
      ],
      "execution_count": 31,
      "outputs": [
        {
          "output_type": "display_data",
          "data": {
            "image/png": "[encoded data removed]",
            "text/plain": [
              "<Figure size 432x288 with 1 Axes>"
            ]
          },
          "metadata": {
            "tags": [],
            "needs_background": "light"
          }
        }
      ]
    },
    {
      "cell_type": "markdown",
      "metadata": {
        "id": "l2DxnPG0nsUF"
      },
      "source": [
        "More passengers  embarked in the location coded 3"
      ]
    },
    {
      "cell_type": "code",
      "metadata": {
        "id": "hXDe5Yh2Bf-G",
        "outputId": "ec9a2e5a-7505-419b-9ab9-74ee55339504",
        "colab": {
          "base_uri": "https://localhost:8080/",
          "height": 294
        }
      },
      "source": [
        "# titles = {\"Mr\": 1, \"Miss\": 2, \"Mrs\": 3, \"Master\": 4, \"Rare\": 5}\n",
        "y = ['title']\n",
        "ax = train_df[y].value_counts().sort_values().plot(kind=\"barh\")\n",
        "totals= []\n",
        "for i in ax.patches:\n",
        "    totals.append(i.get_width())\n",
        "total = sum(totals)\n",
        "for i in ax.patches:\n",
        "     ax.text(i.get_width()+.3, i.get_y()+.20, \n",
        "     str(round((i.get_width()/total)*100, 2))+'%', \n",
        "     fontsize=10, color='black')\n",
        "ax.grid(axis=\"x\")\n",
        "plt.suptitle(y, fontsize=20)\n",
        "plt.show()"
      ],
      "execution_count": 32,
      "outputs": [
        {
          "output_type": "display_data",
          "data": {
            "image/png": "[encoded data removed]",
            "text/plain": [
              "<Figure size 432x288 with 1 Axes>"
            ]
          },
          "metadata": {
            "tags": [],
            "needs_background": "light"
          }
        }
      ]
    },
    {
      "cell_type": "code",
      "metadata": {
        "id": "WCE9FeDFB1O-",
        "outputId": "c8d28a9c-bebb-42d9-91df-aec05f4f9109",
        "colab": {
          "base_uri": "https://localhost:8080/",
          "height": 294
        }
      },
      "source": [
        "# deck = {\"A\": 1, \"B\": 2, \"C\": 3, \"D\": 4, \"E\": 5, \"F\": 6, \"G\": 7, \"U\": 8}\n",
        "y = ['deck']\n",
        "ax = train_df[y].value_counts().sort_values().plot(kind=\"barh\")\n",
        "totals= []\n",
        "for i in ax.patches:\n",
        "    totals.append(i.get_width())\n",
        "total = sum(totals)\n",
        "for i in ax.patches:\n",
        "     ax.text(i.get_width()+.3, i.get_y()+.20, \n",
        "     str(round((i.get_width()/total)*100, 2))+'%', \n",
        "     fontsize=10, color='black')\n",
        "ax.grid(axis=\"x\")\n",
        "plt.suptitle(y, fontsize=20)\n",
        "plt.show()"
      ],
      "execution_count": 33,
      "outputs": [
        {
          "output_type": "display_data",
          "data": {
            "image/png": "[encoded data removed]",
            "text/plain": [
              "<Figure size 432x288 with 1 Axes>"
            ]
          },
          "metadata": {
            "tags": [],
            "needs_background": "light"
          }
        }
      ]
    },
    {
      "cell_type": "code",
      "metadata": {
        "id": "lNDYo6d1vBOH",
        "outputId": "c9d9a5bd-653c-4b0c-8fa1-6152a5b09856",
        "colab": {
          "base_uri": "https://localhost:8080/",
          "height": 294
        }
      },
      "source": [
        "y = ['pclass']\n",
        "ax = train_df[y].value_counts().sort_values().plot(kind=\"barh\")\n",
        "totals= []\n",
        "for i in ax.patches:\n",
        "    totals.append(i.get_width())\n",
        "total = sum(totals)\n",
        "for i in ax.patches:\n",
        "     ax.text(i.get_width()+.3, i.get_y()+.20, \n",
        "     str(round((i.get_width()/total)*100, 2))+'%', \n",
        "     fontsize=10, color='black')\n",
        "ax.grid(axis=\"x\")\n",
        "plt.suptitle(y, fontsize=20)\n",
        "plt.show()"
      ],
      "execution_count": 34,
      "outputs": [
        {
          "output_type": "display_data",
          "data": {
            "image/png": "[encoded data removed]",
            "text/plain": [
              "<Figure size 432x288 with 1 Axes>"
            ]
          },
          "metadata": {
            "tags": [],
            "needs_background": "light"
          }
        }
      ]
    },
    {
      "cell_type": "code",
      "metadata": {
        "id": "4tnxNegNgy9B",
        "outputId": "df54e231-c4af-4940-8328-665548a2a694",
        "colab": {
          "base_uri": "https://localhost:8080/",
          "height": 308
        }
      },
      "source": [
        "# looking at the distributin of the age of the passengers\n",
        "x = \"age\"\n",
        "fig, ax = plt.subplots(nrows=1, ncols=2,  sharex=False,  sharey=False)\n",
        "fig.suptitle(x, fontsize=20)\n",
        "### distribution\n",
        "ax[0].title.set_text('distribution')\n",
        "variable = train_df[x].fillna(train_df[x].mean())\n",
        "breaks = np.quantile(variable, q=np.linspace(0, 1, 11))\n",
        "variable = variable[ (variable > breaks[0]) & (variable < \n",
        "                    breaks[10]) ]\n",
        "sns.distplot(variable, hist=True, kde=True, kde_kws={\"shade\": True}, ax=ax[0])\n",
        "des = train_df[x].describe()\n",
        "ax[0].axvline(des[\"25%\"], ls='--')\n",
        "ax[0].axvline(des[\"mean\"], ls='--')\n",
        "ax[0].axvline(des[\"75%\"], ls='--')\n",
        "ax[0].grid(True)\n",
        "des = round(des, 2).apply(lambda x: str(x))\n",
        "box = '\\n'.join((\"min: \"+des[\"min\"], \"25%: \"+des[\"25%\"], \"mean: \"+des[\"mean\"], \"75%: \"+des[\"75%\"], \"max: \"+des[\"max\"]))\n",
        "ax[0].text(0.95, 0.95, box, transform=ax[0].transAxes, fontsize=10, va='top', ha=\"right\", bbox=dict(boxstyle='round', facecolor='white', alpha=1))\n",
        "### boxplot \n",
        "ax[1].title.set_text('outliers (log scale)')\n",
        "tmp_train_df = pd.DataFrame(train_df[x])\n",
        "tmp_train_df[x] = np.log(tmp_train_df[x])\n",
        "tmp_train_df.boxplot(column=x, ax=ax[1], figsize=(10,10))\n",
        "plt.show()"
      ],
      "execution_count": 35,
      "outputs": [
        {
          "output_type": "display_data",
          "data": {
            "image/png": "[encoded data removed]",
            "text/plain": [
              "<Figure size 432x288 with 2 Axes>"
            ]
          },
          "metadata": {
            "tags": [],
            "needs_background": "light"
          }
        }
      ]
    },
    {
      "cell_type": "markdown",
      "metadata": {
        "id": "iMMPPnWUhWJE"
      },
      "source": [
        "Most of the passengers were pretty young. The average age of a passenger is approximately 30 years.The distribution is skewed towards the left side and the 75th percentile is 38. Coupled with the outliers in the box plot, the first spike in the left tail is an indication that there was a significant amount of children."
      ]
    },
    {
      "cell_type": "markdown",
      "metadata": {
        "id": "b3pPMwK7wElA"
      },
      "source": [
        "#### Multimodal Data Visualizations"
      ]
    },
    {
      "cell_type": "code",
      "metadata": {
        "id": "lOOxH6X_uNE2",
        "outputId": "eee8606f-30be-47bf-cea2-bb25cad471d0",
        "colab": {
          "base_uri": "https://localhost:8080/",
          "height": 1000
        }
      },
      "source": [
        "# Getting Correllation matrix\n",
        "corr_mat=train_df.corr(method='pearson')\n",
        "plt.figure(figsize=(30,20))\n",
        "sns.heatmap(corr_mat,vmax=1,square=True,annot=True,cmap='cubehelix')"
      ],
      "execution_count": 36,
      "outputs": [
        {
          "output_type": "execute_result",
          "data": {
            "text/plain": [
              "<matplotlib.axes._subplots.AxesSubplot at 0x7f260f1c8128>"
            ]
          },
          "metadata": {
            "tags": []
          },
          "execution_count": 36
        },
        {
          "output_type": "display_data",
          "data": {
            "image/png": "[encoded data removed]",
            "text/plain": [
              "<Figure size 2160x1440 with 2 Axes>"
            ]
          },
          "metadata": {
            "tags": [],
            "needs_background": "light"
          }
        }
      ]
    },
    {
      "cell_type": "code",
      "metadata": {
        "id": "pd9xHNW1ugZ_",
        "outputId": "14037693-faa7-4ea7-aa4f-76726c0bd4a2",
        "colab": {
          "base_uri": "https://localhost:8080/",
          "height": 359
        }
      },
      "source": [
        "#get the correlation of each feature with the target variable\n",
        "corr = pd.DataFrame(train_df.corr()['survived'])\n",
        "#get the absolute value of the correlation\n",
        "corr['abs'] = np.abs(corr['survived'])\n",
        "#sorting the values by their absolute value, in descending order\n",
        "corr = corr.sort_values(by='abs',ascending=False)\n",
        "corr\n",
        "#"
      ],
      "execution_count": 37,
      "outputs": [
        {
          "output_type": "execute_result",
          "data": {
            "text/html": [
              "<div>\n",
              "<style scoped>\n",
              "    .dataframe tbody tr th:only-of-type {\n",
              "        vertical-align: middle;\n",
              "    }\n",
              "\n",
              "    .dataframe tbody tr th {\n",
              "        vertical-align: top;\n",
              "    }\n",
              "\n",
              "    .dataframe thead th {\n",
              "        text-align: right;\n",
              "    }\n",
              "</style>\n",
              "<table border=\"1\" class=\"dataframe\">\n",
              "  <thead>\n",
              "    <tr style=\"text-align: right;\">\n",
              "      <th></th>\n",
              "      <th>survived</th>\n",
              "      <th>abs</th>\n",
              "    </tr>\n",
              "  </thead>\n",
              "  <tbody>\n",
              "    <tr>\n",
              "      <th>survived</th>\n",
              "      <td>1.000000</td>\n",
              "      <td>1.000000</td>\n",
              "    </tr>\n",
              "    <tr>\n",
              "      <th>sex</th>\n",
              "      <td>-0.543351</td>\n",
              "      <td>0.543351</td>\n",
              "    </tr>\n",
              "    <tr>\n",
              "      <th>title</th>\n",
              "      <td>0.407753</td>\n",
              "      <td>0.407753</td>\n",
              "    </tr>\n",
              "    <tr>\n",
              "      <th>pclass</th>\n",
              "      <td>-0.338481</td>\n",
              "      <td>0.338481</td>\n",
              "    </tr>\n",
              "    <tr>\n",
              "      <th>deck</th>\n",
              "      <td>-0.289569</td>\n",
              "      <td>0.289569</td>\n",
              "    </tr>\n",
              "    <tr>\n",
              "      <th>fare</th>\n",
              "      <td>0.257307</td>\n",
              "      <td>0.257307</td>\n",
              "    </tr>\n",
              "    <tr>\n",
              "      <th>embarked</th>\n",
              "      <td>-0.176509</td>\n",
              "      <td>0.176509</td>\n",
              "    </tr>\n",
              "    <tr>\n",
              "      <th>parch</th>\n",
              "      <td>0.081629</td>\n",
              "      <td>0.081629</td>\n",
              "    </tr>\n",
              "    <tr>\n",
              "      <th>age</th>\n",
              "      <td>-0.057919</td>\n",
              "      <td>0.057919</td>\n",
              "    </tr>\n",
              "    <tr>\n",
              "      <th>sibsp</th>\n",
              "      <td>-0.035322</td>\n",
              "      <td>0.035322</td>\n",
              "    </tr>\n",
              "  </tbody>\n",
              "</table>\n",
              "</div>"
            ],
            "text/plain": [
              "          survived       abs\n",
              "survived  1.000000  1.000000\n",
              "sex      -0.543351  0.543351\n",
              "title     0.407753  0.407753\n",
              "pclass   -0.338481  0.338481\n",
              "deck     -0.289569  0.289569\n",
              "fare      0.257307  0.257307\n",
              "embarked -0.176509  0.176509\n",
              "parch     0.081629  0.081629\n",
              "age      -0.057919  0.057919\n",
              "sibsp    -0.035322  0.035322"
            ]
          },
          "metadata": {
            "tags": []
          },
          "execution_count": 37
        }
      ]
    },
    {
      "cell_type": "markdown",
      "metadata": {
        "id": "7p4VwD-kw8AA"
      },
      "source": [
        "The chance that a passenger would survive or not was highy dependent on te sex of the passenger."
      ]
    },
    {
      "cell_type": "code",
      "metadata": {
        "id": "atMbGjnBzfIW",
        "outputId": "494fe9fd-76a9-48c4-a745-122fb931e63e",
        "colab": {
          "base_uri": "https://localhost:8080/",
          "height": 295
        }
      },
      "source": [
        "# looking into survival rate on the basis of the sex of the passengers\n",
        "survived = 'survived'\n",
        "not_survived = 'not survived'\n",
        "fig, axes = plt.subplots(nrows=1, ncols=2,figsize=(10, 4))\n",
        "women = train_df[train_df['sex']== 0]\n",
        "men = train_df[train_df['sex']== 1]\n",
        "ax = sns.distplot(women[women['survived']==1].age.dropna(), bins=18, label = survived, ax = axes[0], kde =False)\n",
        "ax = sns.distplot(women[women['survived']==0].age.dropna(), bins=40, label = not_survived, ax = axes[0], kde =False)\n",
        "ax.legend()\n",
        "ax.set_title('Female')\n",
        "ax = sns.distplot(men[men['survived']==1].age.dropna(), bins=18, label = survived, ax = axes[1], kde = False)\n",
        "ax = sns.distplot(men[men['survived']==0].age.dropna(), bins=40, label = not_survived, ax = axes[1], kde = False)\n",
        "ax.legend()\n",
        "_ = ax.set_title('Male')"
      ],
      "execution_count": 38,
      "outputs": [
        {
          "output_type": "display_data",
          "data": {
            "image/png": "[encoded data removed]",
            "text/plain": [
              "<Figure size 720x288 with 2 Axes>"
            ]
          },
          "metadata": {
            "tags": [],
            "needs_background": "light"
          }
        }
      ]
    },
    {
      "cell_type": "markdown",
      "metadata": {
        "id": "EFuPsQGX0GBa"
      },
      "source": [
        "It is evident from the visual above that the survival rate in females passengers was high. Most specifically the young passengers had a high rate of survival. An indication that the age is predictive in determining whether the passenger will survive or not."
      ]
    },
    {
      "cell_type": "code",
      "metadata": {
        "id": "DFoA84yVh7vl",
        "outputId": "d94280e0-cd19-4506-807b-cb6b098a9046",
        "colab": {
          "base_uri": "https://localhost:8080/"
        }
      },
      "source": [
        "# carrying out an annova test to confirm if really there is a relationship\n",
        "# between the probability of a passenger surviving  and their age\n",
        "import statsmodels.formula.api as smf\n",
        "import statsmodels.api as sm\n",
        "from statsmodels.stats.anova import anova_lm\n",
        "cat, num = \"survived\", \"age\"\n",
        "model = smf.ols(num+' ~ '+cat, data=train_df).fit()\n",
        "table = sm.stats.anova_lm(model)\n",
        "p = table[\"PR(>F)\"][0]\n",
        "coeff, p = None, round(p, 3)\n",
        "conclusion = \"Correlated\" if p < 0.05 else \"Non-Correlated\"\n",
        "print(\"Anova F: the variables are\", conclusion, \"(p-value: \"+str(p)+\")\")"
      ],
      "execution_count": 39,
      "outputs": [
        {
          "output_type": "stream",
          "text": [
            "Anova F: the variables are Non-Correlated (p-value: 0.084)\n"
          ],
          "name": "stdout"
        }
      ]
    },
    {
      "cell_type": "markdown",
      "metadata": {
        "id": "haCndlSYiA3h"
      },
      "source": [
        "Rejecting the null hypothesis sinc ethe p value is less than 0.05. It is reasonable to cocnlude that the passengers' age contributed to determine their survival. This makes sense as the lives of women and children were to be saved first in a life-threatening situation, typically abandoning ship, when survival resources such as lifeboats were limited (the “women and children first” code)."
      ]
    },
    {
      "cell_type": "code",
      "metadata": {
        "id": "02H_tUJo3afM",
        "outputId": "e3ca9aeb-df61-4c2d-9d10-860ab944ffb1",
        "colab": {
          "base_uri": "https://localhost:8080/",
          "height": 1000
        }
      },
      "source": [
        "# looking ta the survival of the passenger against the pclass\n",
        "FacetGrid = sns.FacetGrid(train_df, row='embarked', size=4.5, aspect=1.6)\n",
        "FacetGrid.map(sns.pointplot, 'pclass', 'survived', 'sex', palette=None,  order=None, hue_order=None )\n",
        "FacetGrid.add_legend()"
      ],
      "execution_count": 40,
      "outputs": [
        {
          "output_type": "execute_result",
          "data": {
            "text/plain": [
              "<seaborn.axisgrid.FacetGrid at 0x7f260c711860>"
            ]
          },
          "metadata": {
            "tags": []
          },
          "execution_count": 40
        },
        {
          "output_type": "display_data",
          "data": {
            "image/png": "[encoded data removed]",
            "text/plain": [
              "<Figure size 560.775x1296 with 4 Axes>"
            ]
          },
          "metadata": {
            "tags": [],
            "needs_background": "light"
          }
        }
      ]
    },
    {
      "cell_type": "markdown",
      "metadata": {
        "id": "0dOqWA8t5Lxg"
      },
      "source": [
        "It is evident that aside from the fact that females had a high survivale rate, it is also very important to note that the pclass where the passenger has booked also determined the survival rate as well."
      ]
    },
    {
      "cell_type": "code",
      "metadata": {
        "id": "LQdn0tWE6A1_",
        "outputId": "16c026c6-8cf2-4ed0-de06-2e4350ad4d3f",
        "colab": {
          "base_uri": "https://localhost:8080/"
        }
      },
      "source": [
        "# carry out an anova test to confirm if really there is a relationship\n",
        "# between the probability of a passenger surviving  and their pclass\n",
        "import statsmodels.formula.api as smf\n",
        "import statsmodels.api as sm\n",
        "from statsmodels.stats.anova import anova_lm\n",
        "cat, num = \"survived\", \"pclass\"\n",
        "model = smf.ols(num+' ~ '+cat, data=train_df).fit()\n",
        "table = sm.stats.anova_lm(model)\n",
        "p = table[\"PR(>F)\"][0]\n",
        "coeff, p = None, round(p, 3)\n",
        "conclusion = \"Correlated\" if p < 0.05 else \"Non-Correlated\"\n",
        "print(\"Anova F: the variables are\", conclusion, \"(p-value: \"+str(p)+\")\")"
      ],
      "execution_count": 41,
      "outputs": [
        {
          "output_type": "stream",
          "text": [
            "Anova F: the variables are Correlated (p-value: 0.0)\n"
          ],
          "name": "stdout"
        }
      ]
    },
    {
      "cell_type": "markdown",
      "metadata": {
        "id": "FmG1bLdu6Hyn"
      },
      "source": [
        "From the output above, we get to reject the null hypothesis and confidently conclude that there is actually a relationship between the survival of a passenger and the pclass where the passenger was."
      ]
    },
    {
      "cell_type": "markdown",
      "metadata": {
        "id": "IZMKJDygQ8Bs"
      },
      "source": [
        "### Feature selection"
      ]
    },
    {
      "cell_type": "code",
      "metadata": {
        "id": "_O-W2pYQRAt2",
        "outputId": "e03f79bd-c51c-448a-b1f2-502c4e14069a",
        "colab": {
          "base_uri": "https://localhost:8080/"
        }
      },
      "source": [
        "# report which features were selected by RFE\n",
        "from sklearn.datasets import make_classification\n",
        "from sklearn.feature_selection import RFE\n",
        "from sklearn.tree import DecisionTreeClassifier\n",
        "# define dataset\n",
        "y = train_df['survived'].values\n",
        "test_features= train_df.drop(['survived'], axis= 1)\n",
        "X= test_features.values\n",
        "X, y = make_classification(n_samples=1000, n_features=10, n_informative=5, n_redundant=5, random_state=1)\n",
        "# define RFE\n",
        "rfe = RFE(estimator=DecisionTreeClassifier(), n_features_to_select=5)\n",
        "# fit RFE\n",
        "rfe.fit(X, y)\n",
        "# summarize all features\n",
        "for i in range(X.shape[1]):\n",
        "\tprint('Column: %d, Selected=%s, Rank: %d' % (i, rfe.support_[i], rfe.ranking_[i]))"
      ],
      "execution_count": 42,
      "outputs": [
        {
          "output_type": "stream",
          "text": [
            "Column: 0, Selected=False, Rank: 6\n",
            "Column: 1, Selected=False, Rank: 5\n",
            "Column: 2, Selected=True, Rank: 1\n",
            "Column: 3, Selected=True, Rank: 1\n",
            "Column: 4, Selected=True, Rank: 1\n",
            "Column: 5, Selected=False, Rank: 4\n",
            "Column: 6, Selected=True, Rank: 1\n",
            "Column: 7, Selected=False, Rank: 2\n",
            "Column: 8, Selected=True, Rank: 1\n",
            "Column: 9, Selected=False, Rank: 3\n"
          ],
          "name": "stdout"
        }
      ]
    },
    {
      "cell_type": "markdown",
      "metadata": {
        "id": "RtDwupPCY5lQ"
      },
      "source": [
        "From the ouput above the most important features which I will proceed to use in the model *sex,age,sibsp,fare,title* which all have a rank of 1 and marked True in the support array."
      ]
    },
    {
      "cell_type": "markdown",
      "metadata": {
        "id": "59Dl6rn42e6J"
      },
      "source": [
        "### 1: Classification"
      ]
    },
    {
      "cell_type": "markdown",
      "metadata": {
        "id": "TjycvLlM7pxu"
      },
      "source": [
        "#### 80-20 train, test sets"
      ]
    },
    {
      "cell_type": "code",
      "metadata": {
        "id": "nYrPNqfw7b9v",
        "outputId": "d9bf26f3-b399-4a75-bf03-54ec357a080d",
        "colab": {
          "base_uri": "https://localhost:8080/"
        }
      },
      "source": [
        "# KNN classification model that is not tuned\n",
        "\n",
        "# initializing the target and predictor variables\n",
        "y=train_df['survived'].values\n",
        "\n",
        "test_features= train_df.drop(['survived'], axis=1)\n",
        "X= test_features.values\n",
        "\n",
        "# splitting the data into train and test sets\n",
        "from sklearn.model_selection import train_test_split\n",
        "X_train, X_test, y_train, y_test = train_test_split(X, y, test_size=0.2, random_state=0)\n",
        "\n",
        "# rescaling the features into standard units\n",
        "scaler = StandardScaler().fit(X_train)\n",
        "rescaledX = scaler.transform(X_train)\n",
        "\n",
        "# intializing the model to be used\n",
        "from sklearn.neighbors import KNeighborsClassifier\n",
        "classifier = KNeighborsClassifier(n_neighbors=5)\n",
        "classifier.fit(X_train, y_train)\n",
        "\n",
        "y_pred = classifier.predict(X_test)\n",
        "# Evaluating the Algorithm\n",
        "# ---\n",
        "# For evaluating an algorithm, confusion matrix, precision, recall and f1 score are the most commonly used metrics. \n",
        "# The confusion_matrix and classification_report methods of the sklearn.metrics can be used to calculate these metrics. \n",
        "# ---\n",
        "# \n",
        "from sklearn.metrics import classification_report, confusion_matrix\n",
        "print(confusion_matrix(y_test, y_pred))\n",
        "print(classification_report(y_test, y_pred))\n"
      ],
      "execution_count": 43,
      "outputs": [
        {
          "output_type": "stream",
          "text": [
            "[[97 13]\n",
            " [28 41]]\n",
            "              precision    recall  f1-score   support\n",
            "\n",
            "           0       0.78      0.88      0.83       110\n",
            "           1       0.76      0.59      0.67        69\n",
            "\n",
            "    accuracy                           0.77       179\n",
            "   macro avg       0.77      0.74      0.75       179\n",
            "weighted avg       0.77      0.77      0.76       179\n",
            "\n"
          ],
          "name": "stdout"
        }
      ]
    },
    {
      "cell_type": "markdown",
      "metadata": {
        "id": "Xra5hGLm9ep4"
      },
      "source": [
        "For this model, the test set accuracy is about 0.72, which means we made the right prediction for 72% of the survived passengers in the test set. Under some mathematical assumptions, this means that we can expect our model to be correct 72% of the time for new survival cases. The level of accuracy could furher be improved through adjusting the relevant parameters since the accuracy is not good enough."
      ]
    },
    {
      "cell_type": "markdown",
      "metadata": {
        "id": "3aIrOvfeF40L"
      },
      "source": [
        "#### 70-30 train, test sets"
      ]
    },
    {
      "cell_type": "code",
      "metadata": {
        "id": "SqneV9FFF1jD",
        "outputId": "97d15c23-6cdd-4b93-e506-29e1d43964ba",
        "colab": {
          "base_uri": "https://localhost:8080/"
        }
      },
      "source": [
        "# KNN classification model that is not tuned\n",
        "\n",
        "# initializing the target and predictor variables\n",
        "y=train_df['survived'].values\n",
        "\n",
        "test_features= train_df.drop(['survived'], axis=1)\n",
        "X= test_features.values\n",
        "\n",
        "# splitting the data into train and test sets\n",
        "from sklearn.model_selection import train_test_split\n",
        "X_train, X_test, y_train, y_test = train_test_split(X, y, test_size=0.3, random_state=0)\n",
        "\n",
        "# rescaling the features into standard units\n",
        "scaler = StandardScaler().fit(X_train)\n",
        "rescaledX = scaler.transform(X_train)\n",
        "\n",
        "# intializing the model to be used\n",
        "from sklearn.neighbors import KNeighborsClassifier\n",
        "classifier = KNeighborsClassifier(n_neighbors=5)\n",
        "classifier.fit(X_train, y_train)\n",
        "\n",
        "y_pred = classifier.predict(X_test)\n",
        "# Evaluating the Algorithm\n",
        "# ---\n",
        "# For evaluating an algorithm, confusion matrix, precision, recall and f1 score are the most commonly used metrics. \n",
        "# The confusion_matrix and classification_report methods of the sklearn.metrics can be used to calculate these metrics. \n",
        "# ---\n",
        "# \n",
        "from sklearn.metrics import classification_report, confusion_matrix\n",
        "print(confusion_matrix(y_test, y_pred))\n",
        "print(classification_report(y_test, y_pred))\n"
      ],
      "execution_count": 44,
      "outputs": [
        {
          "output_type": "stream",
          "text": [
            "[[144  24]\n",
            " [ 47  53]]\n",
            "              precision    recall  f1-score   support\n",
            "\n",
            "           0       0.75      0.86      0.80       168\n",
            "           1       0.69      0.53      0.60       100\n",
            "\n",
            "    accuracy                           0.74       268\n",
            "   macro avg       0.72      0.69      0.70       268\n",
            "weighted avg       0.73      0.74      0.73       268\n",
            "\n"
          ],
          "name": "stdout"
        }
      ]
    },
    {
      "cell_type": "markdown",
      "metadata": {
        "id": "hraOH5Qpk5CT"
      },
      "source": [
        "For this model, the test set accuracy is about 0.74, which means we made the right prediction for 74% of the survived passengers in the test set. Under some mathematical assumptions, this means that we can expect our model to be correct 74% of the time for new survival cases. The level of accuracy could further be improved through adjusting the relevant parameters since the accuracy is not good enough.\n",
        "\n",
        "\n",
        "*Note*: The level of accuracy has slightly increased copared to the 80-20 train-test split."
      ]
    },
    {
      "cell_type": "markdown",
      "metadata": {
        "id": "rvW9AqQjGK5L"
      },
      "source": [
        "#### 60-40 train, test sets"
      ]
    },
    {
      "cell_type": "code",
      "metadata": {
        "id": "YHDQFJZAGOsf",
        "outputId": "cb4411f2-835c-461a-8625-2dc08b16070c",
        "colab": {
          "base_uri": "https://localhost:8080/"
        }
      },
      "source": [
        "# KNN classification model that is not tuned\n",
        "\n",
        "# initializing the target and predictor variables\n",
        "y=train_df['survived'].values\n",
        "\n",
        "test_features= train_df.drop(['survived'], axis=1)\n",
        "X= test_features.values\n",
        "\n",
        "# splitting the data into train and test sets\n",
        "from sklearn.model_selection import train_test_split\n",
        "X_train, X_test, y_train, y_test = train_test_split(X, y, test_size=0.4, random_state=0)\n",
        "\n",
        "# rescaling the features into standard units\n",
        "scaler = StandardScaler().fit(X_train)\n",
        "rescaledX = scaler.transform(X_train)\n",
        "\n",
        "# intializing the model to be used\n",
        "from sklearn.neighbors import KNeighborsClassifier\n",
        "classifier = KNeighborsClassifier(n_neighbors=5)\n",
        "classifier.fit(X_train, y_train)\n",
        "\n",
        "y_pred = classifier.predict(X_test)\n",
        "# Evaluating the Algorithm\n",
        "# ---\n",
        "# For evaluating an algorithm, confusion matrix, precision, recall and f1 score are the most commonly used metrics. \n",
        "# The confusion_matrix and classification_report methods of the sklearn.metrics can be used to calculate these metrics. \n",
        "# ---\n",
        "# \n",
        "from sklearn.metrics import classification_report, confusion_matrix\n",
        "print(confusion_matrix(y_test, y_pred))\n",
        "print(classification_report(y_test, y_pred))\n"
      ],
      "execution_count": 45,
      "outputs": [
        {
          "output_type": "stream",
          "text": [
            "[[188  33]\n",
            " [ 70  66]]\n",
            "              precision    recall  f1-score   support\n",
            "\n",
            "           0       0.73      0.85      0.78       221\n",
            "           1       0.67      0.49      0.56       136\n",
            "\n",
            "    accuracy                           0.71       357\n",
            "   macro avg       0.70      0.67      0.67       357\n",
            "weighted avg       0.71      0.71      0.70       357\n",
            "\n"
          ],
          "name": "stdout"
        }
      ]
    },
    {
      "cell_type": "markdown",
      "metadata": {
        "id": "ZO2OQlc3lzVK"
      },
      "source": [
        "For this model, the test set accuracy is about 0.71, which means we made the right prediction for 71% of the survived passengers in the test set. Under some mathematical assumptions, this means that we can expect our model to be correct 71% of the time for new survival cases. The level of accuracy could further be improved through adjusting the relevant parameters since the accuracy is not good enough.\n",
        "\n",
        "\n",
        "*Note*: For this split, it performed the poorest."
      ]
    },
    {
      "cell_type": "markdown",
      "metadata": {
        "id": "oja9SKN409sN"
      },
      "source": [
        "## 8. Challenging the solution"
      ]
    },
    {
      "cell_type": "markdown",
      "metadata": {
        "id": "lpZ-wWWjmrPM"
      },
      "source": [
        "To increase the performance of the model, I will work around finding the best prameters that will also increase the accuracy of the model"
      ]
    },
    {
      "cell_type": "code",
      "metadata": {
        "id": "NUkGAcPFitYP",
        "outputId": "f1bc9f6e-e249-490d-be47-9641b2e9b1a9",
        "colab": {
          "base_uri": "https://localhost:8080/"
        }
      },
      "source": [
        "# Tune scaled KNN for the 80-20 train test sets\n",
        "\n",
        "# grouping the target and predictior variables\n",
        "y=train_df['survived'].values\n",
        "\n",
        "test_features= train_df.drop(['survived'], axis=1)\n",
        "X= test_features.values\n",
        "\n",
        "# splitting the data \n",
        "from sklearn.model_selection import train_test_split\n",
        "X_train, X_test, y_train, y_test = train_test_split(X, y, test_size=0.2, random_state=0)\n",
        "\n",
        "\n",
        "from sklearn.model_selection import GridSearchCV\n",
        "from sklearn.neighbors import KNeighborsClassifier\n",
        "from sklearn.model_selection import KFold\n",
        "# rescaling the data using the standard scaler\n",
        "scaler = StandardScaler().fit(X_train)\n",
        "rescaledX = scaler.transform(X_train)\n",
        "# instantiating the parameters to be tuned\n",
        "neighbors = [1,3,5,7,9,11,13,15,17,19,21]\n",
        "p=[1,2]\n",
        "algorithm= ['auto', 'ball_tree', 'kd_tree', 'brute']\n",
        "weights=['uniform', 'distance']\n",
        "# creating the parameter function\n",
        "param_grid = dict(n_neighbors=neighbors, p=p, algorithm=algorithm, weights=weights)\n",
        "# initializing the KNN classifier\n",
        "model = KNeighborsClassifier()\n",
        "grid = GridSearchCV(estimator=model, param_grid=param_grid,  cv=10)\n",
        "grid_result = grid.fit(rescaledX, y_train)\n",
        "print(\"Best: %f using %s\" % (grid_result.best_score_, grid_result.best_params_))\n",
        "means = grid_result.cv_results_['mean_test_score']\n",
        "stds = grid_result.cv_results_['std_test_score']\n",
        "params = grid_result.cv_results_['params']\n",
        "for mean, stdev, param in zip(means, stds, params):\n",
        "  print(\"%f (%f) with: %r\" % (mean, stdev, param))"
      ],
      "execution_count": 48,
      "outputs": [
        {
          "output_type": "stream",
          "text": [
            "Best: 0.832923 using {'algorithm': 'auto', 'n_neighbors': 11, 'p': 1, 'weights': 'uniform'}\n",
            "0.741628 (0.035218) with: {'algorithm': 'auto', 'n_neighbors': 1, 'p': 1, 'weights': 'uniform'}\n",
            "0.741628 (0.035218) with: {'algorithm': 'auto', 'n_neighbors': 1, 'p': 1, 'weights': 'distance'}\n",
            "0.737402 (0.029056) with: {'algorithm': 'auto', 'n_neighbors': 1, 'p': 2, 'weights': 'uniform'}\n",
            "0.737402 (0.029056) with: {'algorithm': 'auto', 'n_neighbors': 1, 'p': 2, 'weights': 'distance'}\n",
            "0.797829 (0.032286) with: {'algorithm': 'auto', 'n_neighbors': 3, 'p': 1, 'weights': 'uniform'}\n",
            "0.771166 (0.039119) with: {'algorithm': 'auto', 'n_neighbors': 3, 'p': 1, 'weights': 'distance'}\n",
            "0.803443 (0.030937) with: {'algorithm': 'auto', 'n_neighbors': 3, 'p': 2, 'weights': 'uniform'}\n",
            "0.773963 (0.043608) with: {'algorithm': 'auto', 'n_neighbors': 3, 'p': 2, 'weights': 'distance'}\n",
            "0.809018 (0.047055) with: {'algorithm': 'auto', 'n_neighbors': 5, 'p': 1, 'weights': 'uniform'}\n",
            "0.785211 (0.044415) with: {'algorithm': 'auto', 'n_neighbors': 5, 'p': 1, 'weights': 'distance'}\n",
            "0.814632 (0.029817) with: {'algorithm': 'auto', 'n_neighbors': 5, 'p': 2, 'weights': 'uniform'}\n",
            "0.787989 (0.042984) with: {'algorithm': 'auto', 'n_neighbors': 5, 'p': 2, 'weights': 'distance'}\n",
            "0.823063 (0.042666) with: {'algorithm': 'auto', 'n_neighbors': 7, 'p': 1, 'weights': 'uniform'}\n",
            "0.793623 (0.040322) with: {'algorithm': 'auto', 'n_neighbors': 7, 'p': 1, 'weights': 'distance'}\n",
            "0.820207 (0.030807) with: {'algorithm': 'auto', 'n_neighbors': 7, 'p': 2, 'weights': 'uniform'}\n",
            "0.787969 (0.042180) with: {'algorithm': 'auto', 'n_neighbors': 7, 'p': 2, 'weights': 'distance'}\n",
            "0.825900 (0.037055) with: {'algorithm': 'auto', 'n_neighbors': 9, 'p': 1, 'weights': 'uniform'}\n",
            "0.792234 (0.046512) with: {'algorithm': 'auto', 'n_neighbors': 9, 'p': 1, 'weights': 'distance'}\n",
            "0.827230 (0.032207) with: {'algorithm': 'auto', 'n_neighbors': 9, 'p': 2, 'weights': 'uniform'}\n",
            "0.790786 (0.038701) with: {'algorithm': 'auto', 'n_neighbors': 9, 'p': 2, 'weights': 'distance'}\n",
            "0.832923 (0.032004) with: {'algorithm': 'auto', 'n_neighbors': 11, 'p': 1, 'weights': 'uniform'}\n",
            "0.800665 (0.040083) with: {'algorithm': 'auto', 'n_neighbors': 11, 'p': 1, 'weights': 'distance'}\n",
            "0.827269 (0.034382) with: {'algorithm': 'auto', 'n_neighbors': 11, 'p': 2, 'weights': 'uniform'}\n",
            "0.796440 (0.039839) with: {'algorithm': 'auto', 'n_neighbors': 11, 'p': 2, 'weights': 'distance'}\n",
            "0.825919 (0.035812) with: {'algorithm': 'auto', 'n_neighbors': 13, 'p': 1, 'weights': 'uniform'}\n",
            "0.800665 (0.034208) with: {'algorithm': 'auto', 'n_neighbors': 13, 'p': 1, 'weights': 'distance'}\n",
            "0.830086 (0.032211) with: {'algorithm': 'auto', 'n_neighbors': 13, 'p': 2, 'weights': 'uniform'}\n",
            "0.802093 (0.040715) with: {'algorithm': 'auto', 'n_neighbors': 13, 'p': 2, 'weights': 'distance'}\n",
            "0.824452 (0.028911) with: {'algorithm': 'auto', 'n_neighbors': 15, 'p': 1, 'weights': 'uniform'}\n",
            "0.802074 (0.031555) with: {'algorithm': 'auto', 'n_neighbors': 15, 'p': 1, 'weights': 'distance'}\n",
            "0.828678 (0.036462) with: {'algorithm': 'auto', 'n_neighbors': 15, 'p': 2, 'weights': 'uniform'}\n",
            "0.799257 (0.039189) with: {'algorithm': 'auto', 'n_neighbors': 15, 'p': 2, 'weights': 'distance'}\n",
            "0.824491 (0.030644) with: {'algorithm': 'auto', 'n_neighbors': 17, 'p': 1, 'weights': 'uniform'}\n",
            "0.803502 (0.035820) with: {'algorithm': 'auto', 'n_neighbors': 17, 'p': 1, 'weights': 'distance'}\n",
            "0.820246 (0.032461) with: {'algorithm': 'auto', 'n_neighbors': 17, 'p': 2, 'weights': 'uniform'}\n",
            "0.792214 (0.046156) with: {'algorithm': 'auto', 'n_neighbors': 17, 'p': 2, 'weights': 'distance'}\n",
            "0.820266 (0.040018) with: {'algorithm': 'auto', 'n_neighbors': 19, 'p': 1, 'weights': 'uniform'}\n",
            "0.799296 (0.037909) with: {'algorithm': 'auto', 'n_neighbors': 19, 'p': 1, 'weights': 'distance'}\n",
            "0.817430 (0.037618) with: {'algorithm': 'auto', 'n_neighbors': 19, 'p': 2, 'weights': 'uniform'}\n",
            "0.793623 (0.045377) with: {'algorithm': 'auto', 'n_neighbors': 19, 'p': 2, 'weights': 'distance'}\n",
            "0.823122 (0.037901) with: {'algorithm': 'auto', 'n_neighbors': 21, 'p': 1, 'weights': 'uniform'}\n",
            "0.806318 (0.037786) with: {'algorithm': 'auto', 'n_neighbors': 21, 'p': 1, 'weights': 'distance'}\n",
            "0.818838 (0.034032) with: {'algorithm': 'auto', 'n_neighbors': 21, 'p': 2, 'weights': 'uniform'}\n",
            "0.796459 (0.046995) with: {'algorithm': 'auto', 'n_neighbors': 21, 'p': 2, 'weights': 'distance'}\n",
            "0.741628 (0.035218) with: {'algorithm': 'ball_tree', 'n_neighbors': 1, 'p': 1, 'weights': 'uniform'}\n",
            "0.741628 (0.035218) with: {'algorithm': 'ball_tree', 'n_neighbors': 1, 'p': 1, 'weights': 'distance'}\n",
            "0.737402 (0.029056) with: {'algorithm': 'ball_tree', 'n_neighbors': 1, 'p': 2, 'weights': 'uniform'}\n",
            "0.737402 (0.029056) with: {'algorithm': 'ball_tree', 'n_neighbors': 1, 'p': 2, 'weights': 'distance'}\n",
            "0.799237 (0.035114) with: {'algorithm': 'ball_tree', 'n_neighbors': 3, 'p': 1, 'weights': 'uniform'}\n",
            "0.772574 (0.041908) with: {'algorithm': 'ball_tree', 'n_neighbors': 3, 'p': 1, 'weights': 'distance'}\n",
            "0.803443 (0.030937) with: {'algorithm': 'ball_tree', 'n_neighbors': 3, 'p': 2, 'weights': 'uniform'}\n",
            "0.773963 (0.043608) with: {'algorithm': 'ball_tree', 'n_neighbors': 3, 'p': 2, 'weights': 'distance'}\n",
            "0.809018 (0.047055) with: {'algorithm': 'ball_tree', 'n_neighbors': 5, 'p': 1, 'weights': 'uniform'}\n",
            "0.785211 (0.044415) with: {'algorithm': 'ball_tree', 'n_neighbors': 5, 'p': 1, 'weights': 'distance'}\n",
            "0.814632 (0.029817) with: {'algorithm': 'ball_tree', 'n_neighbors': 5, 'p': 2, 'weights': 'uniform'}\n",
            "0.787989 (0.042984) with: {'algorithm': 'ball_tree', 'n_neighbors': 5, 'p': 2, 'weights': 'distance'}\n",
            "0.823063 (0.042666) with: {'algorithm': 'ball_tree', 'n_neighbors': 7, 'p': 1, 'weights': 'uniform'}\n",
            "0.793623 (0.040322) with: {'algorithm': 'ball_tree', 'n_neighbors': 7, 'p': 1, 'weights': 'distance'}\n",
            "0.820207 (0.030807) with: {'algorithm': 'ball_tree', 'n_neighbors': 7, 'p': 2, 'weights': 'uniform'}\n",
            "0.787969 (0.042180) with: {'algorithm': 'ball_tree', 'n_neighbors': 7, 'p': 2, 'weights': 'distance'}\n",
            "0.825900 (0.037055) with: {'algorithm': 'ball_tree', 'n_neighbors': 9, 'p': 1, 'weights': 'uniform'}\n",
            "0.792234 (0.046512) with: {'algorithm': 'ball_tree', 'n_neighbors': 9, 'p': 1, 'weights': 'distance'}\n",
            "0.827230 (0.032207) with: {'algorithm': 'ball_tree', 'n_neighbors': 9, 'p': 2, 'weights': 'uniform'}\n",
            "0.790786 (0.038701) with: {'algorithm': 'ball_tree', 'n_neighbors': 9, 'p': 2, 'weights': 'distance'}\n",
            "0.832923 (0.032004) with: {'algorithm': 'ball_tree', 'n_neighbors': 11, 'p': 1, 'weights': 'uniform'}\n",
            "0.800665 (0.040083) with: {'algorithm': 'ball_tree', 'n_neighbors': 11, 'p': 1, 'weights': 'distance'}\n",
            "0.827269 (0.034382) with: {'algorithm': 'ball_tree', 'n_neighbors': 11, 'p': 2, 'weights': 'uniform'}\n",
            "0.796440 (0.039839) with: {'algorithm': 'ball_tree', 'n_neighbors': 11, 'p': 2, 'weights': 'distance'}\n",
            "0.824511 (0.034738) with: {'algorithm': 'ball_tree', 'n_neighbors': 13, 'p': 1, 'weights': 'uniform'}\n",
            "0.800665 (0.034208) with: {'algorithm': 'ball_tree', 'n_neighbors': 13, 'p': 1, 'weights': 'distance'}\n",
            "0.830086 (0.032211) with: {'algorithm': 'ball_tree', 'n_neighbors': 13, 'p': 2, 'weights': 'uniform'}\n",
            "0.802093 (0.040715) with: {'algorithm': 'ball_tree', 'n_neighbors': 13, 'p': 2, 'weights': 'distance'}\n",
            "0.824452 (0.028911) with: {'algorithm': 'ball_tree', 'n_neighbors': 15, 'p': 1, 'weights': 'uniform'}\n",
            "0.802074 (0.031555) with: {'algorithm': 'ball_tree', 'n_neighbors': 15, 'p': 1, 'weights': 'distance'}\n",
            "0.828678 (0.036462) with: {'algorithm': 'ball_tree', 'n_neighbors': 15, 'p': 2, 'weights': 'uniform'}\n",
            "0.799257 (0.039189) with: {'algorithm': 'ball_tree', 'n_neighbors': 15, 'p': 2, 'weights': 'distance'}\n",
            "0.824491 (0.030644) with: {'algorithm': 'ball_tree', 'n_neighbors': 17, 'p': 1, 'weights': 'uniform'}\n",
            "0.803502 (0.035820) with: {'algorithm': 'ball_tree', 'n_neighbors': 17, 'p': 1, 'weights': 'distance'}\n",
            "0.821635 (0.032098) with: {'algorithm': 'ball_tree', 'n_neighbors': 17, 'p': 2, 'weights': 'uniform'}\n",
            "0.792214 (0.046156) with: {'algorithm': 'ball_tree', 'n_neighbors': 17, 'p': 2, 'weights': 'distance'}\n",
            "0.818858 (0.037820) with: {'algorithm': 'ball_tree', 'n_neighbors': 19, 'p': 1, 'weights': 'uniform'}\n",
            "0.799296 (0.037909) with: {'algorithm': 'ball_tree', 'n_neighbors': 19, 'p': 1, 'weights': 'distance'}\n",
            "0.817430 (0.037618) with: {'algorithm': 'ball_tree', 'n_neighbors': 19, 'p': 2, 'weights': 'uniform'}\n",
            "0.793623 (0.045377) with: {'algorithm': 'ball_tree', 'n_neighbors': 19, 'p': 2, 'weights': 'distance'}\n",
            "0.823122 (0.037901) with: {'algorithm': 'ball_tree', 'n_neighbors': 21, 'p': 1, 'weights': 'uniform'}\n",
            "0.806318 (0.037786) with: {'algorithm': 'ball_tree', 'n_neighbors': 21, 'p': 1, 'weights': 'distance'}\n",
            "0.818838 (0.034032) with: {'algorithm': 'ball_tree', 'n_neighbors': 21, 'p': 2, 'weights': 'uniform'}\n",
            "0.796459 (0.046995) with: {'algorithm': 'ball_tree', 'n_neighbors': 21, 'p': 2, 'weights': 'distance'}\n",
            "0.741628 (0.035218) with: {'algorithm': 'kd_tree', 'n_neighbors': 1, 'p': 1, 'weights': 'uniform'}\n",
            "0.741628 (0.035218) with: {'algorithm': 'kd_tree', 'n_neighbors': 1, 'p': 1, 'weights': 'distance'}\n",
            "0.737402 (0.029056) with: {'algorithm': 'kd_tree', 'n_neighbors': 1, 'p': 2, 'weights': 'uniform'}\n",
            "0.737402 (0.029056) with: {'algorithm': 'kd_tree', 'n_neighbors': 1, 'p': 2, 'weights': 'distance'}\n",
            "0.797829 (0.032286) with: {'algorithm': 'kd_tree', 'n_neighbors': 3, 'p': 1, 'weights': 'uniform'}\n",
            "0.771166 (0.039119) with: {'algorithm': 'kd_tree', 'n_neighbors': 3, 'p': 1, 'weights': 'distance'}\n",
            "0.803443 (0.030937) with: {'algorithm': 'kd_tree', 'n_neighbors': 3, 'p': 2, 'weights': 'uniform'}\n",
            "0.773963 (0.043608) with: {'algorithm': 'kd_tree', 'n_neighbors': 3, 'p': 2, 'weights': 'distance'}\n",
            "0.809018 (0.047055) with: {'algorithm': 'kd_tree', 'n_neighbors': 5, 'p': 1, 'weights': 'uniform'}\n",
            "0.785211 (0.044415) with: {'algorithm': 'kd_tree', 'n_neighbors': 5, 'p': 1, 'weights': 'distance'}\n",
            "0.814632 (0.029817) with: {'algorithm': 'kd_tree', 'n_neighbors': 5, 'p': 2, 'weights': 'uniform'}\n",
            "0.787989 (0.042984) with: {'algorithm': 'kd_tree', 'n_neighbors': 5, 'p': 2, 'weights': 'distance'}\n",
            "0.823063 (0.042666) with: {'algorithm': 'kd_tree', 'n_neighbors': 7, 'p': 1, 'weights': 'uniform'}\n",
            "0.793623 (0.040322) with: {'algorithm': 'kd_tree', 'n_neighbors': 7, 'p': 1, 'weights': 'distance'}\n",
            "0.820207 (0.030807) with: {'algorithm': 'kd_tree', 'n_neighbors': 7, 'p': 2, 'weights': 'uniform'}\n",
            "0.787969 (0.042180) with: {'algorithm': 'kd_tree', 'n_neighbors': 7, 'p': 2, 'weights': 'distance'}\n",
            "0.825900 (0.037055) with: {'algorithm': 'kd_tree', 'n_neighbors': 9, 'p': 1, 'weights': 'uniform'}\n",
            "0.792234 (0.046512) with: {'algorithm': 'kd_tree', 'n_neighbors': 9, 'p': 1, 'weights': 'distance'}\n",
            "0.827230 (0.032207) with: {'algorithm': 'kd_tree', 'n_neighbors': 9, 'p': 2, 'weights': 'uniform'}\n",
            "0.790786 (0.038701) with: {'algorithm': 'kd_tree', 'n_neighbors': 9, 'p': 2, 'weights': 'distance'}\n",
            "0.832923 (0.032004) with: {'algorithm': 'kd_tree', 'n_neighbors': 11, 'p': 1, 'weights': 'uniform'}\n",
            "0.800665 (0.040083) with: {'algorithm': 'kd_tree', 'n_neighbors': 11, 'p': 1, 'weights': 'distance'}\n",
            "0.827269 (0.034382) with: {'algorithm': 'kd_tree', 'n_neighbors': 11, 'p': 2, 'weights': 'uniform'}\n",
            "0.796440 (0.039839) with: {'algorithm': 'kd_tree', 'n_neighbors': 11, 'p': 2, 'weights': 'distance'}\n",
            "0.825919 (0.035812) with: {'algorithm': 'kd_tree', 'n_neighbors': 13, 'p': 1, 'weights': 'uniform'}\n",
            "0.800665 (0.034208) with: {'algorithm': 'kd_tree', 'n_neighbors': 13, 'p': 1, 'weights': 'distance'}\n",
            "0.830086 (0.032211) with: {'algorithm': 'kd_tree', 'n_neighbors': 13, 'p': 2, 'weights': 'uniform'}\n",
            "0.802093 (0.040715) with: {'algorithm': 'kd_tree', 'n_neighbors': 13, 'p': 2, 'weights': 'distance'}\n",
            "0.824452 (0.028911) with: {'algorithm': 'kd_tree', 'n_neighbors': 15, 'p': 1, 'weights': 'uniform'}\n",
            "0.802074 (0.031555) with: {'algorithm': 'kd_tree', 'n_neighbors': 15, 'p': 1, 'weights': 'distance'}\n",
            "0.828678 (0.036462) with: {'algorithm': 'kd_tree', 'n_neighbors': 15, 'p': 2, 'weights': 'uniform'}\n",
            "0.799257 (0.039189) with: {'algorithm': 'kd_tree', 'n_neighbors': 15, 'p': 2, 'weights': 'distance'}\n",
            "0.824491 (0.030644) with: {'algorithm': 'kd_tree', 'n_neighbors': 17, 'p': 1, 'weights': 'uniform'}\n",
            "0.803502 (0.035820) with: {'algorithm': 'kd_tree', 'n_neighbors': 17, 'p': 1, 'weights': 'distance'}\n",
            "0.820246 (0.032461) with: {'algorithm': 'kd_tree', 'n_neighbors': 17, 'p': 2, 'weights': 'uniform'}\n",
            "0.792214 (0.046156) with: {'algorithm': 'kd_tree', 'n_neighbors': 17, 'p': 2, 'weights': 'distance'}\n",
            "0.820266 (0.040018) with: {'algorithm': 'kd_tree', 'n_neighbors': 19, 'p': 1, 'weights': 'uniform'}\n",
            "0.799296 (0.037909) with: {'algorithm': 'kd_tree', 'n_neighbors': 19, 'p': 1, 'weights': 'distance'}\n",
            "0.817430 (0.037618) with: {'algorithm': 'kd_tree', 'n_neighbors': 19, 'p': 2, 'weights': 'uniform'}\n",
            "0.793623 (0.045377) with: {'algorithm': 'kd_tree', 'n_neighbors': 19, 'p': 2, 'weights': 'distance'}\n",
            "0.823122 (0.037901) with: {'algorithm': 'kd_tree', 'n_neighbors': 21, 'p': 1, 'weights': 'uniform'}\n",
            "0.806318 (0.037786) with: {'algorithm': 'kd_tree', 'n_neighbors': 21, 'p': 1, 'weights': 'distance'}\n",
            "0.818838 (0.034032) with: {'algorithm': 'kd_tree', 'n_neighbors': 21, 'p': 2, 'weights': 'uniform'}\n",
            "0.796459 (0.046995) with: {'algorithm': 'kd_tree', 'n_neighbors': 21, 'p': 2, 'weights': 'distance'}\n",
            "0.738811 (0.034714) with: {'algorithm': 'brute', 'n_neighbors': 1, 'p': 1, 'weights': 'uniform'}\n",
            "0.738811 (0.034714) with: {'algorithm': 'brute', 'n_neighbors': 1, 'p': 1, 'weights': 'distance'}\n",
            "0.734585 (0.028720) with: {'algorithm': 'brute', 'n_neighbors': 1, 'p': 2, 'weights': 'uniform'}\n",
            "0.734585 (0.028720) with: {'algorithm': 'brute', 'n_neighbors': 1, 'p': 2, 'weights': 'distance'}\n",
            "0.799237 (0.035114) with: {'algorithm': 'brute', 'n_neighbors': 3, 'p': 1, 'weights': 'uniform'}\n",
            "0.772574 (0.041908) with: {'algorithm': 'brute', 'n_neighbors': 3, 'p': 1, 'weights': 'distance'}\n",
            "0.806260 (0.032015) with: {'algorithm': 'brute', 'n_neighbors': 3, 'p': 2, 'weights': 'uniform'}\n",
            "0.775372 (0.042455) with: {'algorithm': 'brute', 'n_neighbors': 3, 'p': 2, 'weights': 'distance'}\n",
            "0.809018 (0.047055) with: {'algorithm': 'brute', 'n_neighbors': 5, 'p': 1, 'weights': 'uniform'}\n",
            "0.785211 (0.044415) with: {'algorithm': 'brute', 'n_neighbors': 5, 'p': 1, 'weights': 'distance'}\n",
            "0.814632 (0.029817) with: {'algorithm': 'brute', 'n_neighbors': 5, 'p': 2, 'weights': 'uniform'}\n",
            "0.787989 (0.042984) with: {'algorithm': 'brute', 'n_neighbors': 5, 'p': 2, 'weights': 'distance'}\n",
            "0.823063 (0.042666) with: {'algorithm': 'brute', 'n_neighbors': 7, 'p': 1, 'weights': 'uniform'}\n",
            "0.793623 (0.040322) with: {'algorithm': 'brute', 'n_neighbors': 7, 'p': 1, 'weights': 'distance'}\n",
            "0.820207 (0.030807) with: {'algorithm': 'brute', 'n_neighbors': 7, 'p': 2, 'weights': 'uniform'}\n",
            "0.787969 (0.042180) with: {'algorithm': 'brute', 'n_neighbors': 7, 'p': 2, 'weights': 'distance'}\n",
            "0.825900 (0.037055) with: {'algorithm': 'brute', 'n_neighbors': 9, 'p': 1, 'weights': 'uniform'}\n",
            "0.792234 (0.046512) with: {'algorithm': 'brute', 'n_neighbors': 9, 'p': 1, 'weights': 'distance'}\n",
            "0.827230 (0.032207) with: {'algorithm': 'brute', 'n_neighbors': 9, 'p': 2, 'weights': 'uniform'}\n",
            "0.790786 (0.038701) with: {'algorithm': 'brute', 'n_neighbors': 9, 'p': 2, 'weights': 'distance'}\n",
            "0.832923 (0.032004) with: {'algorithm': 'brute', 'n_neighbors': 11, 'p': 1, 'weights': 'uniform'}\n",
            "0.800665 (0.040083) with: {'algorithm': 'brute', 'n_neighbors': 11, 'p': 1, 'weights': 'distance'}\n",
            "0.827269 (0.034382) with: {'algorithm': 'brute', 'n_neighbors': 11, 'p': 2, 'weights': 'uniform'}\n",
            "0.796440 (0.039839) with: {'algorithm': 'brute', 'n_neighbors': 11, 'p': 2, 'weights': 'distance'}\n",
            "0.825919 (0.035812) with: {'algorithm': 'brute', 'n_neighbors': 13, 'p': 1, 'weights': 'uniform'}\n",
            "0.800665 (0.034208) with: {'algorithm': 'brute', 'n_neighbors': 13, 'p': 1, 'weights': 'distance'}\n",
            "0.828678 (0.031830) with: {'algorithm': 'brute', 'n_neighbors': 13, 'p': 2, 'weights': 'uniform'}\n",
            "0.802093 (0.040715) with: {'algorithm': 'brute', 'n_neighbors': 13, 'p': 2, 'weights': 'distance'}\n",
            "0.824452 (0.028911) with: {'algorithm': 'brute', 'n_neighbors': 15, 'p': 1, 'weights': 'uniform'}\n",
            "0.802074 (0.031555) with: {'algorithm': 'brute', 'n_neighbors': 15, 'p': 1, 'weights': 'distance'}\n",
            "0.828678 (0.036462) with: {'algorithm': 'brute', 'n_neighbors': 15, 'p': 2, 'weights': 'uniform'}\n",
            "0.799257 (0.039189) with: {'algorithm': 'brute', 'n_neighbors': 15, 'p': 2, 'weights': 'distance'}\n",
            "0.824491 (0.030644) with: {'algorithm': 'brute', 'n_neighbors': 17, 'p': 1, 'weights': 'uniform'}\n",
            "0.803502 (0.035820) with: {'algorithm': 'brute', 'n_neighbors': 17, 'p': 1, 'weights': 'distance'}\n",
            "0.821635 (0.032098) with: {'algorithm': 'brute', 'n_neighbors': 17, 'p': 2, 'weights': 'uniform'}\n",
            "0.792214 (0.046156) with: {'algorithm': 'brute', 'n_neighbors': 17, 'p': 2, 'weights': 'distance'}\n",
            "0.818858 (0.037820) with: {'algorithm': 'brute', 'n_neighbors': 19, 'p': 1, 'weights': 'uniform'}\n",
            "0.799296 (0.037909) with: {'algorithm': 'brute', 'n_neighbors': 19, 'p': 1, 'weights': 'distance'}\n",
            "0.817430 (0.037618) with: {'algorithm': 'brute', 'n_neighbors': 19, 'p': 2, 'weights': 'uniform'}\n",
            "0.793623 (0.045377) with: {'algorithm': 'brute', 'n_neighbors': 19, 'p': 2, 'weights': 'distance'}\n",
            "0.823122 (0.037901) with: {'algorithm': 'brute', 'n_neighbors': 21, 'p': 1, 'weights': 'uniform'}\n",
            "0.806318 (0.037786) with: {'algorithm': 'brute', 'n_neighbors': 21, 'p': 1, 'weights': 'distance'}\n",
            "0.818838 (0.034032) with: {'algorithm': 'brute', 'n_neighbors': 21, 'p': 2, 'weights': 'uniform'}\n",
            "0.796459 (0.046995) with: {'algorithm': 'brute', 'n_neighbors': 21, 'p': 2, 'weights': 'distance'}\n"
          ],
          "name": "stdout"
        }
      ]
    },
    {
      "cell_type": "code",
      "metadata": {
        "id": "fqbC1aJxojmL",
        "outputId": "89a8e5ff-e2ab-4f8a-9721-dae29dec355b",
        "colab": {
          "base_uri": "https://localhost:8080/"
        }
      },
      "source": [
        "# Best: 0.832923 using {'algorithm': 'auto', 'n_neighbors': 11, 'p': 1, 'weights': 'uniform'}\n",
        "# challenging the model using the best hyperparamters for the 80-20 split\n",
        "# initializing the target and predictor variables\n",
        "y=train_df['survived'].values\n",
        "\n",
        "test_features= train_df.drop(['survived'], axis=1)\n",
        "X= test_features.values\n",
        "\n",
        "# splitting the data into train and test sets\n",
        "from sklearn.model_selection import train_test_split\n",
        "X_train, X_test, y_train, y_test = train_test_split(X, y, test_size=0.2, random_state=0)\n",
        "\n",
        "# rescaling the features into standard units\n",
        "scaler = StandardScaler().fit(X_train)\n",
        "rescaledX = scaler.transform(X_train)\n",
        "\n",
        "# intializing the model to be used\n",
        "from sklearn.neighbors import KNeighborsClassifier\n",
        "classifier = KNeighborsClassifier(algorithm= 'auto', n_neighbors=  11, p= 1, n_jobs= -1, weights= 'uniform', leaf_size = 10)\n",
        "classifier.fit(X_train, y_train)\n",
        "\n",
        "y_pred = classifier.predict(X_test)\n",
        "# Evaluating the Algorithm\n",
        "# ---\n",
        "# For evaluating an algorithm, confusion matrix, precision, recall and f1 score are the most commonly used metrics. \n",
        "# The confusion_matrix and classification_report methods of the sklearn.metrics can be used to calculate these metrics. \n",
        "# ---\n",
        "# \n",
        "from sklearn.metrics import classification_report, confusion_matrix\n",
        "print(confusion_matrix(y_test, y_pred))\n",
        "print(classification_report(y_test, y_pred))\n"
      ],
      "execution_count": 55,
      "outputs": [
        {
          "output_type": "stream",
          "text": [
            "[[96 14]\n",
            " [20 49]]\n",
            "              precision    recall  f1-score   support\n",
            "\n",
            "           0       0.83      0.87      0.85       110\n",
            "           1       0.78      0.71      0.74        69\n",
            "\n",
            "    accuracy                           0.81       179\n",
            "   macro avg       0.80      0.79      0.80       179\n",
            "weighted avg       0.81      0.81      0.81       179\n",
            "\n"
          ],
          "name": "stdout"
        }
      ]
    },
    {
      "cell_type": "markdown",
      "metadata": {
        "id": "eK0kxeXHpJar"
      },
      "source": [
        "Perfoming the model with the tuned hyperparameters for 80- 20 split has increased the accuracy of the model to 81%. Therefore we can say that we made the right prediction for 81% of the survived passengers in the test set. Under some mathematical assumptions, this means that we can expect our model to be correct 81% of the time for new survival cases. "
      ]
    },
    {
      "cell_type": "code",
      "metadata": {
        "id": "EsRTN6Q3qfI5",
        "outputId": "9c0968a7-9d40-4b50-fa45-5bdd662d221b",
        "colab": {
          "base_uri": "https://localhost:8080/"
        }
      },
      "source": [
        "# Tune scaled KNN for the 70-30 train test sets\n",
        "\n",
        "# grouping the target and predictior variables\n",
        "y=train_df['survived'].values\n",
        "\n",
        "test_features= train_df.drop(['survived'], axis=1)\n",
        "X= test_features.values\n",
        "\n",
        "# splitting the data \n",
        "from sklearn.model_selection import train_test_split\n",
        "X_train, X_test, y_train, y_test = train_test_split(X, y, test_size=0.3, random_state=0)\n",
        "\n",
        "\n",
        "from sklearn.model_selection import GridSearchCV\n",
        "from sklearn.neighbors import KNeighborsClassifier\n",
        "from sklearn.model_selection import KFold\n",
        "# rescaling the data using the standard scaler\n",
        "scaler = StandardScaler().fit(X_train)\n",
        "rescaledX = scaler.transform(X_train)\n",
        "# instantiating the parameters to be tuned\n",
        "neighbors = [1,3,5,7,9,11,13,15,17,19,21]\n",
        "p=[1,2]\n",
        "algorithm= ['auto', 'ball_tree', 'kd_tree', 'brute']\n",
        "weights=['uniform', 'distance']\n",
        "# creating the parameter function\n",
        "param_grid = dict(n_neighbors=neighbors, p=p, algorithm=algorithm, weights=weights)\n",
        "# initializing the KNN classifier\n",
        "model = KNeighborsClassifier()\n",
        "grid = GridSearchCV(estimator=model, param_grid=param_grid,  cv=10)\n",
        "grid_result = grid.fit(rescaledX, y_train)\n",
        "print(\"Best: %f using %s\" % (grid_result.best_score_, grid_result.best_params_))\n",
        "means = grid_result.cv_results_['mean_test_score']\n",
        "stds = grid_result.cv_results_['std_test_score']\n",
        "params = grid_result.cv_results_['params']\n",
        "for mean, stdev, param in zip(means, stds, params):\n",
        "  print(\"%f (%f) with: %r\" % (mean, stdev, param))"
      ],
      "execution_count": 56,
      "outputs": [
        {
          "output_type": "stream",
          "text": [
            "Best: 0.834716 using {'algorithm': 'auto', 'n_neighbors': 19, 'p': 1, 'weights': 'uniform'}\n",
            "0.730338 (0.047073) with: {'algorithm': 'auto', 'n_neighbors': 1, 'p': 1, 'weights': 'uniform'}\n",
            "0.730338 (0.047073) with: {'algorithm': 'auto', 'n_neighbors': 1, 'p': 1, 'weights': 'distance'}\n",
            "0.735228 (0.035448) with: {'algorithm': 'auto', 'n_neighbors': 1, 'p': 2, 'weights': 'uniform'}\n",
            "0.735228 (0.035448) with: {'algorithm': 'auto', 'n_neighbors': 1, 'p': 2, 'weights': 'distance'}\n",
            "0.808858 (0.035512) with: {'algorithm': 'auto', 'n_neighbors': 3, 'p': 1, 'weights': 'uniform'}\n",
            "0.781644 (0.024551) with: {'algorithm': 'auto', 'n_neighbors': 3, 'p': 1, 'weights': 'distance'}\n",
            "0.808909 (0.035279) with: {'algorithm': 'auto', 'n_neighbors': 3, 'p': 2, 'weights': 'uniform'}\n",
            "0.780056 (0.023100) with: {'algorithm': 'auto', 'n_neighbors': 3, 'p': 2, 'weights': 'distance'}\n",
            "0.808884 (0.040865) with: {'algorithm': 'auto', 'n_neighbors': 5, 'p': 1, 'weights': 'uniform'}\n",
            "0.792934 (0.030942) with: {'algorithm': 'auto', 'n_neighbors': 5, 'p': 1, 'weights': 'distance'}\n",
            "0.818561 (0.037751) with: {'algorithm': 'auto', 'n_neighbors': 5, 'p': 2, 'weights': 'uniform'}\n",
            "0.792985 (0.035330) with: {'algorithm': 'auto', 'n_neighbors': 5, 'p': 2, 'weights': 'distance'}\n",
            "0.828264 (0.038096) with: {'algorithm': 'auto', 'n_neighbors': 7, 'p': 1, 'weights': 'uniform'}\n",
            "0.797824 (0.033481) with: {'algorithm': 'auto', 'n_neighbors': 7, 'p': 1, 'weights': 'distance'}\n",
            "0.823451 (0.044883) with: {'algorithm': 'auto', 'n_neighbors': 7, 'p': 2, 'weights': 'uniform'}\n",
            "0.802586 (0.041329) with: {'algorithm': 'auto', 'n_neighbors': 7, 'p': 2, 'weights': 'distance'}\n",
            "0.834690 (0.034481) with: {'algorithm': 'auto', 'n_neighbors': 9, 'p': 1, 'weights': 'uniform'}\n",
            "0.802560 (0.031491) with: {'algorithm': 'auto', 'n_neighbors': 9, 'p': 1, 'weights': 'distance'}\n",
            "0.828264 (0.043775) with: {'algorithm': 'auto', 'n_neighbors': 9, 'p': 2, 'weights': 'uniform'}\n",
            "0.799360 (0.035447) with: {'algorithm': 'auto', 'n_neighbors': 9, 'p': 2, 'weights': 'distance'}\n",
            "0.831490 (0.031432) with: {'algorithm': 'auto', 'n_neighbors': 11, 'p': 1, 'weights': 'uniform'}\n",
            "0.800947 (0.033266) with: {'algorithm': 'auto', 'n_neighbors': 11, 'p': 1, 'weights': 'distance'}\n",
            "0.823425 (0.038781) with: {'algorithm': 'auto', 'n_neighbors': 11, 'p': 2, 'weights': 'uniform'}\n",
            "0.794572 (0.032632) with: {'algorithm': 'auto', 'n_neighbors': 11, 'p': 2, 'weights': 'distance'}\n",
            "0.829877 (0.043870) with: {'algorithm': 'auto', 'n_neighbors': 13, 'p': 1, 'weights': 'uniform'}\n",
            "0.805760 (0.026547) with: {'algorithm': 'auto', 'n_neighbors': 13, 'p': 1, 'weights': 'distance'}\n",
            "0.828264 (0.031353) with: {'algorithm': 'auto', 'n_neighbors': 13, 'p': 2, 'weights': 'uniform'}\n",
            "0.802560 (0.032307) with: {'algorithm': 'auto', 'n_neighbors': 13, 'p': 2, 'weights': 'distance'}\n",
            "0.831464 (0.045134) with: {'algorithm': 'auto', 'n_neighbors': 15, 'p': 1, 'weights': 'uniform'}\n",
            "0.805786 (0.027317) with: {'algorithm': 'auto', 'n_neighbors': 15, 'p': 1, 'weights': 'distance'}\n",
            "0.823425 (0.038169) with: {'algorithm': 'auto', 'n_neighbors': 15, 'p': 2, 'weights': 'uniform'}\n",
            "0.796134 (0.033887) with: {'algorithm': 'auto', 'n_neighbors': 15, 'p': 2, 'weights': 'distance'}\n",
            "0.826677 (0.038510) with: {'algorithm': 'auto', 'n_neighbors': 17, 'p': 1, 'weights': 'uniform'}\n",
            "0.802586 (0.029591) with: {'algorithm': 'auto', 'n_neighbors': 17, 'p': 1, 'weights': 'distance'}\n",
            "0.817051 (0.032897) with: {'algorithm': 'auto', 'n_neighbors': 17, 'p': 2, 'weights': 'uniform'}\n",
            "0.789683 (0.025749) with: {'algorithm': 'auto', 'n_neighbors': 17, 'p': 2, 'weights': 'distance'}\n",
            "0.834716 (0.040602) with: {'algorithm': 'auto', 'n_neighbors': 19, 'p': 1, 'weights': 'uniform'}\n",
            "0.805786 (0.025341) with: {'algorithm': 'auto', 'n_neighbors': 19, 'p': 1, 'weights': 'distance'}\n",
            "0.820302 (0.033159) with: {'algorithm': 'auto', 'n_neighbors': 19, 'p': 2, 'weights': 'uniform'}\n",
            "0.791321 (0.028893) with: {'algorithm': 'auto', 'n_neighbors': 19, 'p': 2, 'weights': 'distance'}\n",
            "0.834716 (0.037909) with: {'algorithm': 'auto', 'n_neighbors': 21, 'p': 1, 'weights': 'uniform'}\n",
            "0.802560 (0.032307) with: {'algorithm': 'auto', 'n_neighbors': 21, 'p': 1, 'weights': 'distance'}\n",
            "0.825090 (0.029756) with: {'algorithm': 'auto', 'n_neighbors': 21, 'p': 2, 'weights': 'uniform'}\n",
            "0.792960 (0.029042) with: {'algorithm': 'auto', 'n_neighbors': 21, 'p': 2, 'weights': 'distance'}\n",
            "0.730338 (0.047073) with: {'algorithm': 'ball_tree', 'n_neighbors': 1, 'p': 1, 'weights': 'uniform'}\n",
            "0.730338 (0.047073) with: {'algorithm': 'ball_tree', 'n_neighbors': 1, 'p': 1, 'weights': 'distance'}\n",
            "0.735228 (0.035448) with: {'algorithm': 'ball_tree', 'n_neighbors': 1, 'p': 2, 'weights': 'uniform'}\n",
            "0.735228 (0.035448) with: {'algorithm': 'ball_tree', 'n_neighbors': 1, 'p': 2, 'weights': 'distance'}\n",
            "0.808858 (0.035512) with: {'algorithm': 'ball_tree', 'n_neighbors': 3, 'p': 1, 'weights': 'uniform'}\n",
            "0.781644 (0.024551) with: {'algorithm': 'ball_tree', 'n_neighbors': 3, 'p': 1, 'weights': 'distance'}\n",
            "0.808909 (0.035279) with: {'algorithm': 'ball_tree', 'n_neighbors': 3, 'p': 2, 'weights': 'uniform'}\n",
            "0.780056 (0.023100) with: {'algorithm': 'ball_tree', 'n_neighbors': 3, 'p': 2, 'weights': 'distance'}\n",
            "0.810471 (0.041774) with: {'algorithm': 'ball_tree', 'n_neighbors': 5, 'p': 1, 'weights': 'uniform'}\n",
            "0.792934 (0.030942) with: {'algorithm': 'ball_tree', 'n_neighbors': 5, 'p': 1, 'weights': 'distance'}\n",
            "0.818561 (0.037751) with: {'algorithm': 'ball_tree', 'n_neighbors': 5, 'p': 2, 'weights': 'uniform'}\n",
            "0.792985 (0.035330) with: {'algorithm': 'ball_tree', 'n_neighbors': 5, 'p': 2, 'weights': 'distance'}\n",
            "0.829877 (0.035330) with: {'algorithm': 'ball_tree', 'n_neighbors': 7, 'p': 1, 'weights': 'uniform'}\n",
            "0.797824 (0.033481) with: {'algorithm': 'ball_tree', 'n_neighbors': 7, 'p': 1, 'weights': 'distance'}\n",
            "0.823451 (0.044883) with: {'algorithm': 'ball_tree', 'n_neighbors': 7, 'p': 2, 'weights': 'uniform'}\n",
            "0.802586 (0.041329) with: {'algorithm': 'ball_tree', 'n_neighbors': 7, 'p': 2, 'weights': 'distance'}\n",
            "0.834690 (0.034481) with: {'algorithm': 'ball_tree', 'n_neighbors': 9, 'p': 1, 'weights': 'uniform'}\n",
            "0.802560 (0.031491) with: {'algorithm': 'ball_tree', 'n_neighbors': 9, 'p': 1, 'weights': 'distance'}\n",
            "0.826677 (0.044704) with: {'algorithm': 'ball_tree', 'n_neighbors': 9, 'p': 2, 'weights': 'uniform'}\n",
            "0.797773 (0.035312) with: {'algorithm': 'ball_tree', 'n_neighbors': 9, 'p': 2, 'weights': 'distance'}\n",
            "0.831490 (0.031432) with: {'algorithm': 'ball_tree', 'n_neighbors': 11, 'p': 1, 'weights': 'uniform'}\n",
            "0.800947 (0.033266) with: {'algorithm': 'ball_tree', 'n_neighbors': 11, 'p': 1, 'weights': 'distance'}\n",
            "0.823425 (0.038781) with: {'algorithm': 'ball_tree', 'n_neighbors': 11, 'p': 2, 'weights': 'uniform'}\n",
            "0.794572 (0.032632) with: {'algorithm': 'ball_tree', 'n_neighbors': 11, 'p': 2, 'weights': 'distance'}\n",
            "0.829877 (0.043870) with: {'algorithm': 'ball_tree', 'n_neighbors': 13, 'p': 1, 'weights': 'uniform'}\n",
            "0.805760 (0.026547) with: {'algorithm': 'ball_tree', 'n_neighbors': 13, 'p': 1, 'weights': 'distance'}\n",
            "0.828264 (0.031353) with: {'algorithm': 'ball_tree', 'n_neighbors': 13, 'p': 2, 'weights': 'uniform'}\n",
            "0.802560 (0.032307) with: {'algorithm': 'ball_tree', 'n_neighbors': 13, 'p': 2, 'weights': 'distance'}\n",
            "0.831464 (0.045134) with: {'algorithm': 'ball_tree', 'n_neighbors': 15, 'p': 1, 'weights': 'uniform'}\n",
            "0.805786 (0.027317) with: {'algorithm': 'ball_tree', 'n_neighbors': 15, 'p': 1, 'weights': 'distance'}\n",
            "0.821838 (0.039034) with: {'algorithm': 'ball_tree', 'n_neighbors': 15, 'p': 2, 'weights': 'uniform'}\n",
            "0.796134 (0.033887) with: {'algorithm': 'ball_tree', 'n_neighbors': 15, 'p': 2, 'weights': 'distance'}\n",
            "0.826677 (0.038510) with: {'algorithm': 'ball_tree', 'n_neighbors': 17, 'p': 1, 'weights': 'uniform'}\n",
            "0.802586 (0.029591) with: {'algorithm': 'ball_tree', 'n_neighbors': 17, 'p': 1, 'weights': 'distance'}\n",
            "0.817051 (0.032897) with: {'algorithm': 'ball_tree', 'n_neighbors': 17, 'p': 2, 'weights': 'uniform'}\n",
            "0.789683 (0.025749) with: {'algorithm': 'ball_tree', 'n_neighbors': 17, 'p': 2, 'weights': 'distance'}\n",
            "0.834716 (0.040602) with: {'algorithm': 'ball_tree', 'n_neighbors': 19, 'p': 1, 'weights': 'uniform'}\n",
            "0.805786 (0.025341) with: {'algorithm': 'ball_tree', 'n_neighbors': 19, 'p': 1, 'weights': 'distance'}\n",
            "0.820302 (0.033159) with: {'algorithm': 'ball_tree', 'n_neighbors': 19, 'p': 2, 'weights': 'uniform'}\n",
            "0.791321 (0.028893) with: {'algorithm': 'ball_tree', 'n_neighbors': 19, 'p': 2, 'weights': 'distance'}\n",
            "0.834716 (0.037909) with: {'algorithm': 'ball_tree', 'n_neighbors': 21, 'p': 1, 'weights': 'uniform'}\n",
            "0.802560 (0.032307) with: {'algorithm': 'ball_tree', 'n_neighbors': 21, 'p': 1, 'weights': 'distance'}\n",
            "0.825090 (0.029756) with: {'algorithm': 'ball_tree', 'n_neighbors': 21, 'p': 2, 'weights': 'uniform'}\n",
            "0.792960 (0.029042) with: {'algorithm': 'ball_tree', 'n_neighbors': 21, 'p': 2, 'weights': 'distance'}\n",
            "0.730338 (0.047073) with: {'algorithm': 'kd_tree', 'n_neighbors': 1, 'p': 1, 'weights': 'uniform'}\n",
            "0.730338 (0.047073) with: {'algorithm': 'kd_tree', 'n_neighbors': 1, 'p': 1, 'weights': 'distance'}\n",
            "0.735228 (0.035448) with: {'algorithm': 'kd_tree', 'n_neighbors': 1, 'p': 2, 'weights': 'uniform'}\n",
            "0.735228 (0.035448) with: {'algorithm': 'kd_tree', 'n_neighbors': 1, 'p': 2, 'weights': 'distance'}\n",
            "0.808858 (0.035512) with: {'algorithm': 'kd_tree', 'n_neighbors': 3, 'p': 1, 'weights': 'uniform'}\n",
            "0.781644 (0.024551) with: {'algorithm': 'kd_tree', 'n_neighbors': 3, 'p': 1, 'weights': 'distance'}\n",
            "0.808909 (0.035279) with: {'algorithm': 'kd_tree', 'n_neighbors': 3, 'p': 2, 'weights': 'uniform'}\n",
            "0.780056 (0.023100) with: {'algorithm': 'kd_tree', 'n_neighbors': 3, 'p': 2, 'weights': 'distance'}\n",
            "0.808884 (0.040865) with: {'algorithm': 'kd_tree', 'n_neighbors': 5, 'p': 1, 'weights': 'uniform'}\n",
            "0.792934 (0.030942) with: {'algorithm': 'kd_tree', 'n_neighbors': 5, 'p': 1, 'weights': 'distance'}\n",
            "0.818561 (0.037751) with: {'algorithm': 'kd_tree', 'n_neighbors': 5, 'p': 2, 'weights': 'uniform'}\n",
            "0.792985 (0.035330) with: {'algorithm': 'kd_tree', 'n_neighbors': 5, 'p': 2, 'weights': 'distance'}\n",
            "0.828264 (0.038096) with: {'algorithm': 'kd_tree', 'n_neighbors': 7, 'p': 1, 'weights': 'uniform'}\n",
            "0.797824 (0.033481) with: {'algorithm': 'kd_tree', 'n_neighbors': 7, 'p': 1, 'weights': 'distance'}\n",
            "0.823451 (0.044883) with: {'algorithm': 'kd_tree', 'n_neighbors': 7, 'p': 2, 'weights': 'uniform'}\n",
            "0.802586 (0.041329) with: {'algorithm': 'kd_tree', 'n_neighbors': 7, 'p': 2, 'weights': 'distance'}\n",
            "0.834690 (0.034481) with: {'algorithm': 'kd_tree', 'n_neighbors': 9, 'p': 1, 'weights': 'uniform'}\n",
            "0.802560 (0.031491) with: {'algorithm': 'kd_tree', 'n_neighbors': 9, 'p': 1, 'weights': 'distance'}\n",
            "0.828264 (0.043775) with: {'algorithm': 'kd_tree', 'n_neighbors': 9, 'p': 2, 'weights': 'uniform'}\n",
            "0.799360 (0.035447) with: {'algorithm': 'kd_tree', 'n_neighbors': 9, 'p': 2, 'weights': 'distance'}\n",
            "0.831490 (0.031432) with: {'algorithm': 'kd_tree', 'n_neighbors': 11, 'p': 1, 'weights': 'uniform'}\n",
            "0.800947 (0.033266) with: {'algorithm': 'kd_tree', 'n_neighbors': 11, 'p': 1, 'weights': 'distance'}\n",
            "0.823425 (0.038781) with: {'algorithm': 'kd_tree', 'n_neighbors': 11, 'p': 2, 'weights': 'uniform'}\n",
            "0.794572 (0.032632) with: {'algorithm': 'kd_tree', 'n_neighbors': 11, 'p': 2, 'weights': 'distance'}\n",
            "0.829877 (0.043870) with: {'algorithm': 'kd_tree', 'n_neighbors': 13, 'p': 1, 'weights': 'uniform'}\n",
            "0.805760 (0.026547) with: {'algorithm': 'kd_tree', 'n_neighbors': 13, 'p': 1, 'weights': 'distance'}\n",
            "0.828264 (0.031353) with: {'algorithm': 'kd_tree', 'n_neighbors': 13, 'p': 2, 'weights': 'uniform'}\n",
            "0.802560 (0.032307) with: {'algorithm': 'kd_tree', 'n_neighbors': 13, 'p': 2, 'weights': 'distance'}\n",
            "0.831464 (0.045134) with: {'algorithm': 'kd_tree', 'n_neighbors': 15, 'p': 1, 'weights': 'uniform'}\n",
            "0.805786 (0.027317) with: {'algorithm': 'kd_tree', 'n_neighbors': 15, 'p': 1, 'weights': 'distance'}\n",
            "0.823425 (0.038169) with: {'algorithm': 'kd_tree', 'n_neighbors': 15, 'p': 2, 'weights': 'uniform'}\n",
            "0.796134 (0.033887) with: {'algorithm': 'kd_tree', 'n_neighbors': 15, 'p': 2, 'weights': 'distance'}\n",
            "0.826677 (0.038510) with: {'algorithm': 'kd_tree', 'n_neighbors': 17, 'p': 1, 'weights': 'uniform'}\n",
            "0.802586 (0.029591) with: {'algorithm': 'kd_tree', 'n_neighbors': 17, 'p': 1, 'weights': 'distance'}\n",
            "0.817051 (0.032897) with: {'algorithm': 'kd_tree', 'n_neighbors': 17, 'p': 2, 'weights': 'uniform'}\n",
            "0.789683 (0.025749) with: {'algorithm': 'kd_tree', 'n_neighbors': 17, 'p': 2, 'weights': 'distance'}\n",
            "0.834716 (0.040602) with: {'algorithm': 'kd_tree', 'n_neighbors': 19, 'p': 1, 'weights': 'uniform'}\n",
            "0.805786 (0.025341) with: {'algorithm': 'kd_tree', 'n_neighbors': 19, 'p': 1, 'weights': 'distance'}\n",
            "0.820302 (0.033159) with: {'algorithm': 'kd_tree', 'n_neighbors': 19, 'p': 2, 'weights': 'uniform'}\n",
            "0.791321 (0.028893) with: {'algorithm': 'kd_tree', 'n_neighbors': 19, 'p': 2, 'weights': 'distance'}\n",
            "0.834716 (0.037909) with: {'algorithm': 'kd_tree', 'n_neighbors': 21, 'p': 1, 'weights': 'uniform'}\n",
            "0.802560 (0.032307) with: {'algorithm': 'kd_tree', 'n_neighbors': 21, 'p': 1, 'weights': 'distance'}\n",
            "0.825090 (0.029756) with: {'algorithm': 'kd_tree', 'n_neighbors': 21, 'p': 2, 'weights': 'uniform'}\n",
            "0.792960 (0.029042) with: {'algorithm': 'kd_tree', 'n_neighbors': 21, 'p': 2, 'weights': 'distance'}\n",
            "0.728725 (0.046366) with: {'algorithm': 'brute', 'n_neighbors': 1, 'p': 1, 'weights': 'uniform'}\n",
            "0.728725 (0.046366) with: {'algorithm': 'brute', 'n_neighbors': 1, 'p': 1, 'weights': 'distance'}\n",
            "0.732002 (0.034683) with: {'algorithm': 'brute', 'n_neighbors': 1, 'p': 2, 'weights': 'uniform'}\n",
            "0.732002 (0.034683) with: {'algorithm': 'brute', 'n_neighbors': 1, 'p': 2, 'weights': 'distance'}\n",
            "0.808858 (0.035512) with: {'algorithm': 'brute', 'n_neighbors': 3, 'p': 1, 'weights': 'uniform'}\n",
            "0.781644 (0.024551) with: {'algorithm': 'brute', 'n_neighbors': 3, 'p': 1, 'weights': 'distance'}\n",
            "0.808909 (0.035279) with: {'algorithm': 'brute', 'n_neighbors': 3, 'p': 2, 'weights': 'uniform'}\n",
            "0.780056 (0.023100) with: {'algorithm': 'brute', 'n_neighbors': 3, 'p': 2, 'weights': 'distance'}\n",
            "0.810471 (0.041774) with: {'algorithm': 'brute', 'n_neighbors': 5, 'p': 1, 'weights': 'uniform'}\n",
            "0.792934 (0.030942) with: {'algorithm': 'brute', 'n_neighbors': 5, 'p': 1, 'weights': 'distance'}\n",
            "0.818561 (0.037751) with: {'algorithm': 'brute', 'n_neighbors': 5, 'p': 2, 'weights': 'uniform'}\n",
            "0.792985 (0.035330) with: {'algorithm': 'brute', 'n_neighbors': 5, 'p': 2, 'weights': 'distance'}\n",
            "0.828264 (0.038096) with: {'algorithm': 'brute', 'n_neighbors': 7, 'p': 1, 'weights': 'uniform'}\n",
            "0.797824 (0.033481) with: {'algorithm': 'brute', 'n_neighbors': 7, 'p': 1, 'weights': 'distance'}\n",
            "0.823451 (0.044883) with: {'algorithm': 'brute', 'n_neighbors': 7, 'p': 2, 'weights': 'uniform'}\n",
            "0.802586 (0.041329) with: {'algorithm': 'brute', 'n_neighbors': 7, 'p': 2, 'weights': 'distance'}\n",
            "0.834690 (0.034481) with: {'algorithm': 'brute', 'n_neighbors': 9, 'p': 1, 'weights': 'uniform'}\n",
            "0.802560 (0.031491) with: {'algorithm': 'brute', 'n_neighbors': 9, 'p': 1, 'weights': 'distance'}\n",
            "0.828264 (0.043775) with: {'algorithm': 'brute', 'n_neighbors': 9, 'p': 2, 'weights': 'uniform'}\n",
            "0.799360 (0.035447) with: {'algorithm': 'brute', 'n_neighbors': 9, 'p': 2, 'weights': 'distance'}\n",
            "0.831490 (0.031432) with: {'algorithm': 'brute', 'n_neighbors': 11, 'p': 1, 'weights': 'uniform'}\n",
            "0.800947 (0.033266) with: {'algorithm': 'brute', 'n_neighbors': 11, 'p': 1, 'weights': 'distance'}\n",
            "0.823425 (0.038781) with: {'algorithm': 'brute', 'n_neighbors': 11, 'p': 2, 'weights': 'uniform'}\n",
            "0.794572 (0.032632) with: {'algorithm': 'brute', 'n_neighbors': 11, 'p': 2, 'weights': 'distance'}\n",
            "0.829877 (0.043870) with: {'algorithm': 'brute', 'n_neighbors': 13, 'p': 1, 'weights': 'uniform'}\n",
            "0.805760 (0.026547) with: {'algorithm': 'brute', 'n_neighbors': 13, 'p': 1, 'weights': 'distance'}\n",
            "0.828264 (0.031353) with: {'algorithm': 'brute', 'n_neighbors': 13, 'p': 2, 'weights': 'uniform'}\n",
            "0.802560 (0.032307) with: {'algorithm': 'brute', 'n_neighbors': 13, 'p': 2, 'weights': 'distance'}\n",
            "0.831464 (0.045134) with: {'algorithm': 'brute', 'n_neighbors': 15, 'p': 1, 'weights': 'uniform'}\n",
            "0.805786 (0.027317) with: {'algorithm': 'brute', 'n_neighbors': 15, 'p': 1, 'weights': 'distance'}\n",
            "0.821838 (0.039034) with: {'algorithm': 'brute', 'n_neighbors': 15, 'p': 2, 'weights': 'uniform'}\n",
            "0.796134 (0.033887) with: {'algorithm': 'brute', 'n_neighbors': 15, 'p': 2, 'weights': 'distance'}\n",
            "0.826677 (0.038510) with: {'algorithm': 'brute', 'n_neighbors': 17, 'p': 1, 'weights': 'uniform'}\n",
            "0.802586 (0.029591) with: {'algorithm': 'brute', 'n_neighbors': 17, 'p': 1, 'weights': 'distance'}\n",
            "0.817051 (0.032897) with: {'algorithm': 'brute', 'n_neighbors': 17, 'p': 2, 'weights': 'uniform'}\n",
            "0.789683 (0.025749) with: {'algorithm': 'brute', 'n_neighbors': 17, 'p': 2, 'weights': 'distance'}\n",
            "0.834716 (0.040602) with: {'algorithm': 'brute', 'n_neighbors': 19, 'p': 1, 'weights': 'uniform'}\n",
            "0.805786 (0.025341) with: {'algorithm': 'brute', 'n_neighbors': 19, 'p': 1, 'weights': 'distance'}\n",
            "0.820302 (0.033159) with: {'algorithm': 'brute', 'n_neighbors': 19, 'p': 2, 'weights': 'uniform'}\n",
            "0.791321 (0.028893) with: {'algorithm': 'brute', 'n_neighbors': 19, 'p': 2, 'weights': 'distance'}\n",
            "0.834716 (0.037909) with: {'algorithm': 'brute', 'n_neighbors': 21, 'p': 1, 'weights': 'uniform'}\n",
            "0.802560 (0.032307) with: {'algorithm': 'brute', 'n_neighbors': 21, 'p': 1, 'weights': 'distance'}\n",
            "0.825090 (0.029756) with: {'algorithm': 'brute', 'n_neighbors': 21, 'p': 2, 'weights': 'uniform'}\n",
            "0.792960 (0.029042) with: {'algorithm': 'brute', 'n_neighbors': 21, 'p': 2, 'weights': 'distance'}\n"
          ],
          "name": "stdout"
        }
      ]
    },
    {
      "cell_type": "code",
      "metadata": {
        "id": "t1eF_kkWq0au",
        "outputId": "a597de41-3175-4a8a-db3a-d6ba62b2ef85",
        "colab": {
          "base_uri": "https://localhost:8080/"
        }
      },
      "source": [
        "# Best: 0.834716 using {'algorithm': 'auto', 'n_neighbors': 19, 'p': 1, 'weights': 'uniform'}\n",
        "\n",
        "# KNN classification model using the best hyperparameters for the 70-30 split\n",
        "\n",
        "# initializing the target and predictor variables\n",
        "y=train_df['survived'].values\n",
        "\n",
        "test_features= train_df.drop(['survived'], axis=1)\n",
        "X= test_features.values\n",
        "\n",
        "# splitting the data into train and test sets\n",
        "from sklearn.model_selection import train_test_split\n",
        "X_train, X_test, y_train, y_test = train_test_split(X, y, test_size=0.3, random_state=0)\n",
        "\n",
        "# rescaling the features into standard units\n",
        "scaler = StandardScaler().fit(X_train)\n",
        "rescaledX = scaler.transform(X_train)\n",
        "\n",
        "# intializing the model to be used\n",
        "from sklearn.neighbors import KNeighborsClassifier\n",
        "classifier = KNeighborsClassifier(algorithm= 'auto', n_neighbors= 19, p= 1, weights= 'uniform', n_jobs=2, leaf_size=25)\n",
        "classifier.fit(X_train, y_train)\n",
        "\n",
        "y_pred = classifier.predict(X_test)\n",
        "# Evaluating the Algorithm\n",
        "# ---\n",
        "# For evaluating an algorithm, confusion matrix, precision, recall and f1 score are the most commonly used metrics. \n",
        "# The confusion_matrix and classification_report methods of the sklearn.metrics can be used to calculate these metrics. \n",
        "# ---\n",
        "# \n",
        "from sklearn.metrics import classification_report, confusion_matrix\n",
        "print(confusion_matrix(y_test, y_pred))\n",
        "print(classification_report(y_test, y_pred))"
      ],
      "execution_count": 65,
      "outputs": [
        {
          "output_type": "stream",
          "text": [
            "[[150  18]\n",
            " [ 41  59]]\n",
            "              precision    recall  f1-score   support\n",
            "\n",
            "           0       0.79      0.89      0.84       168\n",
            "           1       0.77      0.59      0.67       100\n",
            "\n",
            "    accuracy                           0.78       268\n",
            "   macro avg       0.78      0.74      0.75       268\n",
            "weighted avg       0.78      0.78      0.77       268\n",
            "\n"
          ],
          "name": "stdout"
        }
      ]
    },
    {
      "cell_type": "markdown",
      "metadata": {
        "id": "XaBfHzbvtCrM"
      },
      "source": [
        "Perfoming the model with the tuned hyperparameters for 70- 30 split has increased the accuracy of the model to 78% from 74%. Therefore we can say that we made the right prediction for 78% of the survived passengers in the test set. Under some mathematical assumptions, this means that we can expect our model to be correct 78% of the time for new survival cases. "
      ]
    },
    {
      "cell_type": "code",
      "metadata": {
        "id": "rTBKMqZZuucO",
        "outputId": "750b78fc-4087-4cc6-d39c-d68ff0cf048b",
        "colab": {
          "base_uri": "https://localhost:8080/"
        }
      },
      "source": [
        "# Tune scaled KNN for the 60-40 train test sets\n",
        "\n",
        "# grouping the target and predictior variables\n",
        "y=train_df['survived'].values\n",
        "\n",
        "test_features= train_df.drop(['survived'], axis=1)\n",
        "X= test_features.values\n",
        "\n",
        "# splitting the data \n",
        "from sklearn.model_selection import train_test_split\n",
        "X_train, X_test, y_train, y_test = train_test_split(X, y, test_size=0.4, random_state=0)\n",
        "\n",
        "\n",
        "from sklearn.model_selection import GridSearchCV\n",
        "from sklearn.neighbors import KNeighborsClassifier\n",
        "from sklearn.model_selection import KFold\n",
        "# rescaling the data using the standard scaler\n",
        "scaler = StandardScaler().fit(X_train)\n",
        "rescaledX = scaler.transform(X_train)\n",
        "# instantiating the parameters to be tuned\n",
        "neighbors = [1,3,5,7,9,11,13,15,17,19,21]\n",
        "p=[1,2]\n",
        "algorithm= ['auto', 'ball_tree', 'kd_tree', 'brute']\n",
        "weights=['uniform', 'distance']\n",
        "# creating the parameter function\n",
        "param_grid = dict(n_neighbors=neighbors, p=p, algorithm=algorithm, weights=weights)\n",
        "# initializing the KNN classifier\n",
        "model = KNeighborsClassifier()\n",
        "grid = GridSearchCV(estimator=model, param_grid=param_grid,  cv=10)\n",
        "grid_result = grid.fit(rescaledX, y_train)\n",
        "print(\"Best: %f using %s\" % (grid_result.best_score_, grid_result.best_params_))\n",
        "means = grid_result.cv_results_['mean_test_score']\n",
        "stds = grid_result.cv_results_['std_test_score']\n",
        "params = grid_result.cv_results_['params']\n",
        "for mean, stdev, param in zip(means, stds, params):\n",
        "  print(\"%f (%f) with: %r\" % (mean, stdev, param))"
      ],
      "execution_count": 66,
      "outputs": [
        {
          "output_type": "stream",
          "text": [
            "Best: 0.829665 using {'algorithm': 'auto', 'n_neighbors': 7, 'p': 1, 'weights': 'uniform'}\n",
            "0.737596 (0.055587) with: {'algorithm': 'auto', 'n_neighbors': 1, 'p': 1, 'weights': 'uniform'}\n",
            "0.737596 (0.055587) with: {'algorithm': 'auto', 'n_neighbors': 1, 'p': 1, 'weights': 'distance'}\n",
            "0.728372 (0.028911) with: {'algorithm': 'auto', 'n_neighbors': 1, 'p': 2, 'weights': 'uniform'}\n",
            "0.728372 (0.028911) with: {'algorithm': 'auto', 'n_neighbors': 1, 'p': 2, 'weights': 'distance'}\n",
            "0.814640 (0.050442) with: {'algorithm': 'auto', 'n_neighbors': 3, 'p': 1, 'weights': 'uniform'}\n",
            "0.786443 (0.056735) with: {'algorithm': 'auto', 'n_neighbors': 3, 'p': 1, 'weights': 'distance'}\n",
            "0.827848 (0.046754) with: {'algorithm': 'auto', 'n_neighbors': 3, 'p': 2, 'weights': 'uniform'}\n",
            "0.792103 (0.052237) with: {'algorithm': 'auto', 'n_neighbors': 3, 'p': 2, 'weights': 'distance'}\n",
            "0.818414 (0.045699) with: {'algorithm': 'auto', 'n_neighbors': 5, 'p': 1, 'weights': 'uniform'}\n",
            "0.797694 (0.064564) with: {'algorithm': 'auto', 'n_neighbors': 5, 'p': 1, 'weights': 'distance'}\n",
            "0.803494 (0.047946) with: {'algorithm': 'auto', 'n_neighbors': 5, 'p': 2, 'weights': 'uniform'}\n",
            "0.786583 (0.061764) with: {'algorithm': 'auto', 'n_neighbors': 5, 'p': 2, 'weights': 'distance'}\n",
            "0.829665 (0.047462) with: {'algorithm': 'auto', 'n_neighbors': 7, 'p': 1, 'weights': 'uniform'}\n",
            "0.797729 (0.062720) with: {'algorithm': 'auto', 'n_neighbors': 7, 'p': 1, 'weights': 'distance'}\n",
            "0.822222 (0.044249) with: {'algorithm': 'auto', 'n_neighbors': 7, 'p': 2, 'weights': 'uniform'}\n",
            "0.795947 (0.059007) with: {'algorithm': 'auto', 'n_neighbors': 7, 'p': 2, 'weights': 'distance'}\n",
            "0.827848 (0.044470) with: {'algorithm': 'auto', 'n_neighbors': 9, 'p': 1, 'weights': 'uniform'}\n",
            "0.799616 (0.059407) with: {'algorithm': 'auto', 'n_neighbors': 9, 'p': 1, 'weights': 'distance'}\n",
            "0.827918 (0.050164) with: {'algorithm': 'auto', 'n_neighbors': 9, 'p': 2, 'weights': 'uniform'}\n",
            "0.801642 (0.060207) with: {'algorithm': 'auto', 'n_neighbors': 9, 'p': 2, 'weights': 'distance'}\n",
            "0.827883 (0.038464) with: {'algorithm': 'auto', 'n_neighbors': 11, 'p': 1, 'weights': 'uniform'}\n",
            "0.809015 (0.057370) with: {'algorithm': 'auto', 'n_neighbors': 11, 'p': 1, 'weights': 'distance'}\n",
            "0.820405 (0.050472) with: {'algorithm': 'auto', 'n_neighbors': 11, 'p': 2, 'weights': 'uniform'}\n",
            "0.803494 (0.062003) with: {'algorithm': 'auto', 'n_neighbors': 11, 'p': 2, 'weights': 'distance'}\n",
            "0.818519 (0.046817) with: {'algorithm': 'auto', 'n_neighbors': 13, 'p': 1, 'weights': 'uniform'}\n",
            "0.807163 (0.062719) with: {'algorithm': 'auto', 'n_neighbors': 13, 'p': 1, 'weights': 'distance'}\n",
            "0.812928 (0.050120) with: {'algorithm': 'auto', 'n_neighbors': 13, 'p': 2, 'weights': 'uniform'}\n",
            "0.801572 (0.062153) with: {'algorithm': 'auto', 'n_neighbors': 13, 'p': 2, 'weights': 'distance'}\n",
            "0.814675 (0.039289) with: {'algorithm': 'auto', 'n_neighbors': 15, 'p': 1, 'weights': 'uniform'}\n",
            "0.809050 (0.061382) with: {'algorithm': 'auto', 'n_neighbors': 15, 'p': 1, 'weights': 'distance'}\n",
            "0.811006 (0.051414) with: {'algorithm': 'auto', 'n_neighbors': 15, 'p': 2, 'weights': 'uniform'}\n",
            "0.797834 (0.055202) with: {'algorithm': 'auto', 'n_neighbors': 15, 'p': 2, 'weights': 'distance'}\n",
            "0.824109 (0.046107) with: {'algorithm': 'auto', 'n_neighbors': 17, 'p': 1, 'weights': 'uniform'}\n",
            "0.814675 (0.056333) with: {'algorithm': 'auto', 'n_neighbors': 17, 'p': 1, 'weights': 'distance'}\n",
            "0.820335 (0.050689) with: {'algorithm': 'auto', 'n_neighbors': 17, 'p': 2, 'weights': 'uniform'}\n",
            "0.797799 (0.059080) with: {'algorithm': 'auto', 'n_neighbors': 17, 'p': 2, 'weights': 'distance'}\n",
            "0.816632 (0.043381) with: {'algorithm': 'auto', 'n_neighbors': 19, 'p': 1, 'weights': 'uniform'}\n",
            "0.814675 (0.053745) with: {'algorithm': 'auto', 'n_neighbors': 19, 'p': 1, 'weights': 'distance'}\n",
            "0.812858 (0.044456) with: {'algorithm': 'auto', 'n_neighbors': 19, 'p': 2, 'weights': 'uniform'}\n",
            "0.792208 (0.055761) with: {'algorithm': 'auto', 'n_neighbors': 19, 'p': 2, 'weights': 'distance'}\n",
            "0.822222 (0.036908) with: {'algorithm': 'auto', 'n_neighbors': 21, 'p': 1, 'weights': 'uniform'}\n",
            "0.812788 (0.048698) with: {'algorithm': 'auto', 'n_neighbors': 21, 'p': 1, 'weights': 'distance'}\n",
            "0.820335 (0.048428) with: {'algorithm': 'auto', 'n_neighbors': 21, 'p': 2, 'weights': 'uniform'}\n",
            "0.801572 (0.053635) with: {'algorithm': 'auto', 'n_neighbors': 21, 'p': 2, 'weights': 'distance'}\n",
            "0.737596 (0.055587) with: {'algorithm': 'ball_tree', 'n_neighbors': 1, 'p': 1, 'weights': 'uniform'}\n",
            "0.737596 (0.055587) with: {'algorithm': 'ball_tree', 'n_neighbors': 1, 'p': 1, 'weights': 'distance'}\n",
            "0.728372 (0.028911) with: {'algorithm': 'ball_tree', 'n_neighbors': 1, 'p': 2, 'weights': 'uniform'}\n",
            "0.728372 (0.028911) with: {'algorithm': 'ball_tree', 'n_neighbors': 1, 'p': 2, 'weights': 'distance'}\n",
            "0.814640 (0.050442) with: {'algorithm': 'ball_tree', 'n_neighbors': 3, 'p': 1, 'weights': 'uniform'}\n",
            "0.786443 (0.056735) with: {'algorithm': 'ball_tree', 'n_neighbors': 3, 'p': 1, 'weights': 'distance'}\n",
            "0.827848 (0.046754) with: {'algorithm': 'ball_tree', 'n_neighbors': 3, 'p': 2, 'weights': 'uniform'}\n",
            "0.792103 (0.052237) with: {'algorithm': 'ball_tree', 'n_neighbors': 3, 'p': 2, 'weights': 'distance'}\n",
            "0.816562 (0.046180) with: {'algorithm': 'ball_tree', 'n_neighbors': 5, 'p': 1, 'weights': 'uniform'}\n",
            "0.797694 (0.064564) with: {'algorithm': 'ball_tree', 'n_neighbors': 5, 'p': 1, 'weights': 'distance'}\n",
            "0.803494 (0.047946) with: {'algorithm': 'ball_tree', 'n_neighbors': 5, 'p': 2, 'weights': 'uniform'}\n",
            "0.786583 (0.061764) with: {'algorithm': 'ball_tree', 'n_neighbors': 5, 'p': 2, 'weights': 'distance'}\n",
            "0.829665 (0.047462) with: {'algorithm': 'ball_tree', 'n_neighbors': 7, 'p': 1, 'weights': 'uniform'}\n",
            "0.797729 (0.062720) with: {'algorithm': 'ball_tree', 'n_neighbors': 7, 'p': 1, 'weights': 'distance'}\n",
            "0.824074 (0.044287) with: {'algorithm': 'ball_tree', 'n_neighbors': 7, 'p': 2, 'weights': 'uniform'}\n",
            "0.797799 (0.059854) with: {'algorithm': 'ball_tree', 'n_neighbors': 7, 'p': 2, 'weights': 'distance'}\n",
            "0.827848 (0.044470) with: {'algorithm': 'ball_tree', 'n_neighbors': 9, 'p': 1, 'weights': 'uniform'}\n",
            "0.799616 (0.059407) with: {'algorithm': 'ball_tree', 'n_neighbors': 9, 'p': 1, 'weights': 'distance'}\n",
            "0.827918 (0.050164) with: {'algorithm': 'ball_tree', 'n_neighbors': 9, 'p': 2, 'weights': 'uniform'}\n",
            "0.801642 (0.060207) with: {'algorithm': 'ball_tree', 'n_neighbors': 9, 'p': 2, 'weights': 'distance'}\n",
            "0.827883 (0.038464) with: {'algorithm': 'ball_tree', 'n_neighbors': 11, 'p': 1, 'weights': 'uniform'}\n",
            "0.809015 (0.057370) with: {'algorithm': 'ball_tree', 'n_neighbors': 11, 'p': 1, 'weights': 'distance'}\n",
            "0.820405 (0.050472) with: {'algorithm': 'ball_tree', 'n_neighbors': 11, 'p': 2, 'weights': 'uniform'}\n",
            "0.803494 (0.062003) with: {'algorithm': 'ball_tree', 'n_neighbors': 11, 'p': 2, 'weights': 'distance'}\n",
            "0.818519 (0.046817) with: {'algorithm': 'ball_tree', 'n_neighbors': 13, 'p': 1, 'weights': 'uniform'}\n",
            "0.807163 (0.062719) with: {'algorithm': 'ball_tree', 'n_neighbors': 13, 'p': 1, 'weights': 'distance'}\n",
            "0.812928 (0.050120) with: {'algorithm': 'ball_tree', 'n_neighbors': 13, 'p': 2, 'weights': 'uniform'}\n",
            "0.801572 (0.062153) with: {'algorithm': 'ball_tree', 'n_neighbors': 13, 'p': 2, 'weights': 'distance'}\n",
            "0.814675 (0.039289) with: {'algorithm': 'ball_tree', 'n_neighbors': 15, 'p': 1, 'weights': 'uniform'}\n",
            "0.809050 (0.061382) with: {'algorithm': 'ball_tree', 'n_neighbors': 15, 'p': 1, 'weights': 'distance'}\n",
            "0.811006 (0.051414) with: {'algorithm': 'ball_tree', 'n_neighbors': 15, 'p': 2, 'weights': 'uniform'}\n",
            "0.797834 (0.055202) with: {'algorithm': 'ball_tree', 'n_neighbors': 15, 'p': 2, 'weights': 'distance'}\n",
            "0.824109 (0.046107) with: {'algorithm': 'ball_tree', 'n_neighbors': 17, 'p': 1, 'weights': 'uniform'}\n",
            "0.814675 (0.056333) with: {'algorithm': 'ball_tree', 'n_neighbors': 17, 'p': 1, 'weights': 'distance'}\n",
            "0.820335 (0.050689) with: {'algorithm': 'ball_tree', 'n_neighbors': 17, 'p': 2, 'weights': 'uniform'}\n",
            "0.797799 (0.059080) with: {'algorithm': 'ball_tree', 'n_neighbors': 17, 'p': 2, 'weights': 'distance'}\n",
            "0.816632 (0.043381) with: {'algorithm': 'ball_tree', 'n_neighbors': 19, 'p': 1, 'weights': 'uniform'}\n",
            "0.814675 (0.053745) with: {'algorithm': 'ball_tree', 'n_neighbors': 19, 'p': 1, 'weights': 'distance'}\n",
            "0.812858 (0.044456) with: {'algorithm': 'ball_tree', 'n_neighbors': 19, 'p': 2, 'weights': 'uniform'}\n",
            "0.792208 (0.055761) with: {'algorithm': 'ball_tree', 'n_neighbors': 19, 'p': 2, 'weights': 'distance'}\n",
            "0.822222 (0.036908) with: {'algorithm': 'ball_tree', 'n_neighbors': 21, 'p': 1, 'weights': 'uniform'}\n",
            "0.812788 (0.048698) with: {'algorithm': 'ball_tree', 'n_neighbors': 21, 'p': 1, 'weights': 'distance'}\n",
            "0.820335 (0.048428) with: {'algorithm': 'ball_tree', 'n_neighbors': 21, 'p': 2, 'weights': 'uniform'}\n",
            "0.801572 (0.053635) with: {'algorithm': 'ball_tree', 'n_neighbors': 21, 'p': 2, 'weights': 'distance'}\n",
            "0.737596 (0.055587) with: {'algorithm': 'kd_tree', 'n_neighbors': 1, 'p': 1, 'weights': 'uniform'}\n",
            "0.737596 (0.055587) with: {'algorithm': 'kd_tree', 'n_neighbors': 1, 'p': 1, 'weights': 'distance'}\n",
            "0.728372 (0.028911) with: {'algorithm': 'kd_tree', 'n_neighbors': 1, 'p': 2, 'weights': 'uniform'}\n",
            "0.728372 (0.028911) with: {'algorithm': 'kd_tree', 'n_neighbors': 1, 'p': 2, 'weights': 'distance'}\n",
            "0.814640 (0.050442) with: {'algorithm': 'kd_tree', 'n_neighbors': 3, 'p': 1, 'weights': 'uniform'}\n",
            "0.786443 (0.056735) with: {'algorithm': 'kd_tree', 'n_neighbors': 3, 'p': 1, 'weights': 'distance'}\n",
            "0.827848 (0.046754) with: {'algorithm': 'kd_tree', 'n_neighbors': 3, 'p': 2, 'weights': 'uniform'}\n",
            "0.792103 (0.052237) with: {'algorithm': 'kd_tree', 'n_neighbors': 3, 'p': 2, 'weights': 'distance'}\n",
            "0.818414 (0.045699) with: {'algorithm': 'kd_tree', 'n_neighbors': 5, 'p': 1, 'weights': 'uniform'}\n",
            "0.797694 (0.064564) with: {'algorithm': 'kd_tree', 'n_neighbors': 5, 'p': 1, 'weights': 'distance'}\n",
            "0.803494 (0.047946) with: {'algorithm': 'kd_tree', 'n_neighbors': 5, 'p': 2, 'weights': 'uniform'}\n",
            "0.786583 (0.061764) with: {'algorithm': 'kd_tree', 'n_neighbors': 5, 'p': 2, 'weights': 'distance'}\n",
            "0.829665 (0.047462) with: {'algorithm': 'kd_tree', 'n_neighbors': 7, 'p': 1, 'weights': 'uniform'}\n",
            "0.797729 (0.062720) with: {'algorithm': 'kd_tree', 'n_neighbors': 7, 'p': 1, 'weights': 'distance'}\n",
            "0.822222 (0.044249) with: {'algorithm': 'kd_tree', 'n_neighbors': 7, 'p': 2, 'weights': 'uniform'}\n",
            "0.795947 (0.059007) with: {'algorithm': 'kd_tree', 'n_neighbors': 7, 'p': 2, 'weights': 'distance'}\n",
            "0.827848 (0.044470) with: {'algorithm': 'kd_tree', 'n_neighbors': 9, 'p': 1, 'weights': 'uniform'}\n",
            "0.799616 (0.059407) with: {'algorithm': 'kd_tree', 'n_neighbors': 9, 'p': 1, 'weights': 'distance'}\n",
            "0.827918 (0.050164) with: {'algorithm': 'kd_tree', 'n_neighbors': 9, 'p': 2, 'weights': 'uniform'}\n",
            "0.801642 (0.060207) with: {'algorithm': 'kd_tree', 'n_neighbors': 9, 'p': 2, 'weights': 'distance'}\n",
            "0.827883 (0.038464) with: {'algorithm': 'kd_tree', 'n_neighbors': 11, 'p': 1, 'weights': 'uniform'}\n",
            "0.809015 (0.057370) with: {'algorithm': 'kd_tree', 'n_neighbors': 11, 'p': 1, 'weights': 'distance'}\n",
            "0.820405 (0.050472) with: {'algorithm': 'kd_tree', 'n_neighbors': 11, 'p': 2, 'weights': 'uniform'}\n",
            "0.803494 (0.062003) with: {'algorithm': 'kd_tree', 'n_neighbors': 11, 'p': 2, 'weights': 'distance'}\n",
            "0.818519 (0.046817) with: {'algorithm': 'kd_tree', 'n_neighbors': 13, 'p': 1, 'weights': 'uniform'}\n",
            "0.807163 (0.062719) with: {'algorithm': 'kd_tree', 'n_neighbors': 13, 'p': 1, 'weights': 'distance'}\n",
            "0.812928 (0.050120) with: {'algorithm': 'kd_tree', 'n_neighbors': 13, 'p': 2, 'weights': 'uniform'}\n",
            "0.801572 (0.062153) with: {'algorithm': 'kd_tree', 'n_neighbors': 13, 'p': 2, 'weights': 'distance'}\n",
            "0.814675 (0.039289) with: {'algorithm': 'kd_tree', 'n_neighbors': 15, 'p': 1, 'weights': 'uniform'}\n",
            "0.809050 (0.061382) with: {'algorithm': 'kd_tree', 'n_neighbors': 15, 'p': 1, 'weights': 'distance'}\n",
            "0.811006 (0.051414) with: {'algorithm': 'kd_tree', 'n_neighbors': 15, 'p': 2, 'weights': 'uniform'}\n",
            "0.797834 (0.055202) with: {'algorithm': 'kd_tree', 'n_neighbors': 15, 'p': 2, 'weights': 'distance'}\n",
            "0.824109 (0.046107) with: {'algorithm': 'kd_tree', 'n_neighbors': 17, 'p': 1, 'weights': 'uniform'}\n",
            "0.814675 (0.056333) with: {'algorithm': 'kd_tree', 'n_neighbors': 17, 'p': 1, 'weights': 'distance'}\n",
            "0.820335 (0.050689) with: {'algorithm': 'kd_tree', 'n_neighbors': 17, 'p': 2, 'weights': 'uniform'}\n",
            "0.797799 (0.059080) with: {'algorithm': 'kd_tree', 'n_neighbors': 17, 'p': 2, 'weights': 'distance'}\n",
            "0.816632 (0.043381) with: {'algorithm': 'kd_tree', 'n_neighbors': 19, 'p': 1, 'weights': 'uniform'}\n",
            "0.814675 (0.053745) with: {'algorithm': 'kd_tree', 'n_neighbors': 19, 'p': 1, 'weights': 'distance'}\n",
            "0.812858 (0.044456) with: {'algorithm': 'kd_tree', 'n_neighbors': 19, 'p': 2, 'weights': 'uniform'}\n",
            "0.792208 (0.055761) with: {'algorithm': 'kd_tree', 'n_neighbors': 19, 'p': 2, 'weights': 'distance'}\n",
            "0.822222 (0.036908) with: {'algorithm': 'kd_tree', 'n_neighbors': 21, 'p': 1, 'weights': 'uniform'}\n",
            "0.812788 (0.048698) with: {'algorithm': 'kd_tree', 'n_neighbors': 21, 'p': 1, 'weights': 'distance'}\n",
            "0.820335 (0.048428) with: {'algorithm': 'kd_tree', 'n_neighbors': 21, 'p': 2, 'weights': 'uniform'}\n",
            "0.801572 (0.053635) with: {'algorithm': 'kd_tree', 'n_neighbors': 21, 'p': 2, 'weights': 'distance'}\n",
            "0.731971 (0.055625) with: {'algorithm': 'brute', 'n_neighbors': 1, 'p': 1, 'weights': 'uniform'}\n",
            "0.731971 (0.055625) with: {'algorithm': 'brute', 'n_neighbors': 1, 'p': 1, 'weights': 'distance'}\n",
            "0.722746 (0.029553) with: {'algorithm': 'brute', 'n_neighbors': 1, 'p': 2, 'weights': 'uniform'}\n",
            "0.722746 (0.029553) with: {'algorithm': 'brute', 'n_neighbors': 1, 'p': 2, 'weights': 'distance'}\n",
            "0.816492 (0.052742) with: {'algorithm': 'brute', 'n_neighbors': 3, 'p': 1, 'weights': 'uniform'}\n",
            "0.788295 (0.059093) with: {'algorithm': 'brute', 'n_neighbors': 3, 'p': 1, 'weights': 'distance'}\n",
            "0.827848 (0.046754) with: {'algorithm': 'brute', 'n_neighbors': 3, 'p': 2, 'weights': 'uniform'}\n",
            "0.792103 (0.052237) with: {'algorithm': 'brute', 'n_neighbors': 3, 'p': 2, 'weights': 'distance'}\n",
            "0.814675 (0.046738) with: {'algorithm': 'brute', 'n_neighbors': 5, 'p': 1, 'weights': 'uniform'}\n",
            "0.797694 (0.064564) with: {'algorithm': 'brute', 'n_neighbors': 5, 'p': 1, 'weights': 'distance'}\n",
            "0.803494 (0.047946) with: {'algorithm': 'brute', 'n_neighbors': 5, 'p': 2, 'weights': 'uniform'}\n",
            "0.786583 (0.061764) with: {'algorithm': 'brute', 'n_neighbors': 5, 'p': 2, 'weights': 'distance'}\n",
            "0.829665 (0.047462) with: {'algorithm': 'brute', 'n_neighbors': 7, 'p': 1, 'weights': 'uniform'}\n",
            "0.797729 (0.062720) with: {'algorithm': 'brute', 'n_neighbors': 7, 'p': 1, 'weights': 'distance'}\n",
            "0.824074 (0.044287) with: {'algorithm': 'brute', 'n_neighbors': 7, 'p': 2, 'weights': 'uniform'}\n",
            "0.797799 (0.059854) with: {'algorithm': 'brute', 'n_neighbors': 7, 'p': 2, 'weights': 'distance'}\n",
            "0.827848 (0.044470) with: {'algorithm': 'brute', 'n_neighbors': 9, 'p': 1, 'weights': 'uniform'}\n",
            "0.799616 (0.059407) with: {'algorithm': 'brute', 'n_neighbors': 9, 'p': 1, 'weights': 'distance'}\n",
            "0.827918 (0.050164) with: {'algorithm': 'brute', 'n_neighbors': 9, 'p': 2, 'weights': 'uniform'}\n",
            "0.801642 (0.060207) with: {'algorithm': 'brute', 'n_neighbors': 9, 'p': 2, 'weights': 'distance'}\n",
            "0.827883 (0.038464) with: {'algorithm': 'brute', 'n_neighbors': 11, 'p': 1, 'weights': 'uniform'}\n",
            "0.809015 (0.057370) with: {'algorithm': 'brute', 'n_neighbors': 11, 'p': 1, 'weights': 'distance'}\n",
            "0.820405 (0.050472) with: {'algorithm': 'brute', 'n_neighbors': 11, 'p': 2, 'weights': 'uniform'}\n",
            "0.803494 (0.062003) with: {'algorithm': 'brute', 'n_neighbors': 11, 'p': 2, 'weights': 'distance'}\n",
            "0.818519 (0.046817) with: {'algorithm': 'brute', 'n_neighbors': 13, 'p': 1, 'weights': 'uniform'}\n",
            "0.807163 (0.062719) with: {'algorithm': 'brute', 'n_neighbors': 13, 'p': 1, 'weights': 'distance'}\n",
            "0.814780 (0.047702) with: {'algorithm': 'brute', 'n_neighbors': 13, 'p': 2, 'weights': 'uniform'}\n",
            "0.803424 (0.062244) with: {'algorithm': 'brute', 'n_neighbors': 13, 'p': 2, 'weights': 'distance'}\n",
            "0.814675 (0.039289) with: {'algorithm': 'brute', 'n_neighbors': 15, 'p': 1, 'weights': 'uniform'}\n",
            "0.809050 (0.061382) with: {'algorithm': 'brute', 'n_neighbors': 15, 'p': 1, 'weights': 'distance'}\n",
            "0.811006 (0.051414) with: {'algorithm': 'brute', 'n_neighbors': 15, 'p': 2, 'weights': 'uniform'}\n",
            "0.797834 (0.055202) with: {'algorithm': 'brute', 'n_neighbors': 15, 'p': 2, 'weights': 'distance'}\n",
            "0.824109 (0.046107) with: {'algorithm': 'brute', 'n_neighbors': 17, 'p': 1, 'weights': 'uniform'}\n",
            "0.814675 (0.056333) with: {'algorithm': 'brute', 'n_neighbors': 17, 'p': 1, 'weights': 'distance'}\n",
            "0.820335 (0.050689) with: {'algorithm': 'brute', 'n_neighbors': 17, 'p': 2, 'weights': 'uniform'}\n",
            "0.797799 (0.059080) with: {'algorithm': 'brute', 'n_neighbors': 17, 'p': 2, 'weights': 'distance'}\n",
            "0.816632 (0.043381) with: {'algorithm': 'brute', 'n_neighbors': 19, 'p': 1, 'weights': 'uniform'}\n",
            "0.814675 (0.053745) with: {'algorithm': 'brute', 'n_neighbors': 19, 'p': 1, 'weights': 'distance'}\n",
            "0.812858 (0.044456) with: {'algorithm': 'brute', 'n_neighbors': 19, 'p': 2, 'weights': 'uniform'}\n",
            "0.792208 (0.055761) with: {'algorithm': 'brute', 'n_neighbors': 19, 'p': 2, 'weights': 'distance'}\n",
            "0.822222 (0.036908) with: {'algorithm': 'brute', 'n_neighbors': 21, 'p': 1, 'weights': 'uniform'}\n",
            "0.812788 (0.048698) with: {'algorithm': 'brute', 'n_neighbors': 21, 'p': 1, 'weights': 'distance'}\n",
            "0.820335 (0.048428) with: {'algorithm': 'brute', 'n_neighbors': 21, 'p': 2, 'weights': 'uniform'}\n",
            "0.801572 (0.053635) with: {'algorithm': 'brute', 'n_neighbors': 21, 'p': 2, 'weights': 'distance'}\n"
          ],
          "name": "stdout"
        }
      ]
    },
    {
      "cell_type": "code",
      "metadata": {
        "id": "WTD24l5AvE6B",
        "outputId": "85d95898-50b4-45e7-cee4-13bc9656d6c7",
        "colab": {
          "base_uri": "https://localhost:8080/"
        }
      },
      "source": [
        "# Best: 0.829665 using {'algorithm': 'auto', 'n_neighbors': 7, 'p': 1, 'weights': 'uniform'}\n",
        "# KNN classification model using the best hyperparameters for the 70-30 split\n",
        "\n",
        "# initializing the target and predictor variables\n",
        "y=train_df['survived'].values\n",
        "\n",
        "test_features= train_df.drop(['survived'], axis=1)\n",
        "X= test_features.values\n",
        "\n",
        "# splitting the data into train and test sets\n",
        "from sklearn.model_selection import train_test_split\n",
        "X_train, X_test, y_train, y_test = train_test_split(X, y, test_size=0.4, random_state=0)\n",
        "\n",
        "# rescaling the features into standard units\n",
        "scaler = StandardScaler().fit(X_train)\n",
        "rescaledX = scaler.transform(X_train)\n",
        "\n",
        "# intializing the model to be used\n",
        "from sklearn.neighbors import KNeighborsClassifier\n",
        "classifier = KNeighborsClassifier(algorithm= 'auto', n_neighbors= 7, p= 1, weights= 'uniform', n_jobs=-1, leaf_size=15)\n",
        "classifier.fit(X_train, y_train)\n",
        "\n",
        "y_pred = classifier.predict(X_test)\n",
        "# Evaluating the Algorithm\n",
        "# ---\n",
        "# For evaluating an algorithm, confusion matrix, precision, recall and f1 score are the most commonly used metrics. \n",
        "# The confusion_matrix and classification_report methods of the sklearn.metrics can be used to calculate these metrics. \n",
        "# ---\n",
        "# \n",
        "from sklearn.metrics import classification_report, confusion_matrix\n",
        "print(confusion_matrix(y_test, y_pred))\n",
        "print(classification_report(y_test, y_pred))"
      ],
      "execution_count": 72,
      "outputs": [
        {
          "output_type": "stream",
          "text": [
            "[[190  31]\n",
            " [ 57  79]]\n",
            "              precision    recall  f1-score   support\n",
            "\n",
            "           0       0.77      0.86      0.81       221\n",
            "           1       0.72      0.58      0.64       136\n",
            "\n",
            "    accuracy                           0.75       357\n",
            "   macro avg       0.74      0.72      0.73       357\n",
            "weighted avg       0.75      0.75      0.75       357\n",
            "\n"
          ],
          "name": "stdout"
        }
      ]
    },
    {
      "cell_type": "markdown",
      "metadata": {
        "id": "qL6rdbK1xRa2"
      },
      "source": [
        "Perfoming the model with the tuned hyperparameters for 60- 40 split has increased the accuracy of the model to 75% from 71%. Therefore we can say that we made the right prediction for 75% of the survived passengers in the test set. Under some mathematical assumptions, this means that we can expect our model to be correct 75% of the time for new survival cases.\n",
        "\n",
        "\n",
        "Even after including the best parameters it still perfromed the poorest."
      ]
    },
    {
      "cell_type": "markdown",
      "metadata": {
        "id": "WWxDLp6k0dxB"
      },
      "source": [
        "## 9. Follow up questions"
      ]
    },
    {
      "cell_type": "markdown",
      "metadata": {
        "id": "IooWBM5j0fcY"
      },
      "source": [
        "> Refining my analytic question or collect new data, all in an iterative process to get at the truth.\n"
      ]
    },
    {
      "cell_type": "markdown",
      "metadata": {
        "id": "q-49kHwJ0lr2"
      },
      "source": [
        "### a). Did I have the right data?"
      ]
    },
    {
      "cell_type": "markdown",
      "metadata": {
        "id": "G29fj-Uu0rRG"
      },
      "source": [
        "### b). Do I need other data to answer our question?"
      ]
    },
    {
      "cell_type": "markdown",
      "metadata": {
        "id": "98oKfPDG0xFf"
      },
      "source": [
        "### c). Did I have the right question?"
      ]
    }
  ]
}